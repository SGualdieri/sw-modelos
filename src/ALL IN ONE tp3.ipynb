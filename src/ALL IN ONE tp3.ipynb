{
 "cells": [
  {
   "cell_type": "markdown",
   "id": "ae976daf",
   "metadata": {},
   "source": [
    "# Desde una sola clase"
   ]
  },
  {
   "cell_type": "markdown",
   "id": "24e185e4",
   "metadata": {},
   "source": [
    "## Cargar los datos y crear el modelo"
   ]
  },
  {
   "cell_type": "code",
   "execution_count": null,
   "id": "d1f6c89d",
   "metadata": {},
   "outputs": [
    {
     "name": "stdout",
     "output_type": "stream",
     "text": [
      "Model: produccion_muebles_hogar\n",
      " - number of variables: 17\n",
      "   - binary=0, integer=0, continuous=17\n",
      " - number of constraints: 22\n",
      "   - linear=22\n",
      " - parameters: defaults\n",
      " - objective: maximize\n",
      " - problem type is: LP\n",
      "--------------------\n",
      "Model: produccion_muebles_hogar\n",
      "Constraints:\n",
      "   CANT_MAD == 7CANT_TAB+10CANT_ESTRU\n",
      "   CANT_MET == 2CANT_PATA+3CANT_SOP\n",
      "   CANT_PINT == 0.500EB+0.800EL\n",
      "   CANT_TAB == EB+2EL\n",
      "   CANT_ESTRU == EB+2EL\n",
      "   CANT_PATA == 4EB+6EL\n",
      "   CANT_SOP == 2EL\n",
      "   CANT_MDO_CPM == CANT_TAB+1.500CANT_ESTRU\n",
      "   CANT_MAQ_CFCM == 0.500CANT_PATA+0.300CANT_SOP\n",
      "   CANT_MDO_CEA == 1.500EB+2.500EL\n",
      "   CANT_MAQ_CEA == EB+1.800EL\n",
      "   Disp_Madera: CANT_MAD <= 15000\n",
      "   Disp_Metal: CANT_MET <= 9000\n",
      "   Disp_MDO_CEA: CANT_MDO_CEA <= 640\n",
      "   Disp_MAQ_CEA: CANT_MAQ_CEA <= 640\n",
      "   -5CANT_MAD-8CANT_MET-10CANT_PINT-20CANT_MDO_CPM-25CANT_MDO_CEA-7CANT_MAQ_CEA-8CANT_MAQ_CFCM+42000 == EXCESO-DEFECTO\n",
      "   INT_GANADO == 0.080EXCESO\n",
      "   INT_PAGADO == 0.100DEFECTO\n",
      "   DemandaMin_EB: EB >= 30\n",
      "   DemandaMax_EL: EL <= 30\n",
      "Objective: 700EB+1200EL-5CANT_MAD-8CANT_MET-10CANT_PINT-20CANT_MDO_CPM-25CANT_MDO_CEA-7CANT_MAQ_CEA-8CANT_MAQ_CFCM+INT_GANADO-INT_PAGADO\n",
      " Maximize\n",
      "--------------------\n",
      "* Production model solved with objective: 115548\n",
      "Production of EB: 272.2117202268431\n",
      "Production of EL: 0\n"
     ]
    }
   ],
   "source": [
    "# Cargar los datos y obtener el modelo\n",
    "from data_and_model_construction.data_tp3 import create_data_dict\n",
    "from data_and_model_construction.common_model_tp3 import create_model, solve_model, print_model\n",
    "\n",
    "data = create_data_dict()\n",
    "mdl, production_vars, products = create_model(data)\n",
    "print_model(mdl)\n",
    "solve_model(mdl, production_vars, products)\n"
   ]
  },
  {
   "cell_type": "code",
   "execution_count": null,
   "id": "de6ac910",
   "metadata": {},
   "outputs": [],
   "source": [
    "from plot_kind.plot_kind_orchestrator import PlotKindOrchestrator\n",
    "\n",
    "pko = PlotKindOrchestrator(mdl, products, production_vars)"
   ]
  },
  {
   "cell_type": "code",
   "execution_count": null,
   "id": "ff42708b",
   "metadata": {},
   "outputs": [
    {
     "name": "stdout",
     "output_type": "stream",
     "text": [
      "[debug] (lower, upper): (603.5367940673132, 1e+20)\n",
      "* Production model solved with objective: 164288\n",
      "* Total benefit=164288\n",
      "Production of EB: 212.56332703213616\n",
      "Production of EL: 30.0\n",
      "* Production model solved with objective: 36000\n",
      "* Total benefit=36000\n",
      "Production of EB: 212.56332703213616\n",
      "Production of EL: 30.0\n",
      "* Production model solved with objective: 36000\n",
      "* Total benefit=36000\n",
      "Production of EB: 212.56332703213616\n",
      "Production of EL: 30.0\n",
      "* Production model solved with objective: 190548\n",
      "* Total benefit=190548\n",
      "Production of EB: 272.2117202268431\n",
      "Production of EL: 0\n",
      "[debug] current_x_value: 700\n"
     ]
    },
    {
     "data": {
      "text/plain": [
       "<Figure size 640x480 with 1 Axes>"
      ]
     },
     "metadata": {},
     "output_type": "display_data"
    },
    {
     "data": {
      "text/plain": [
       "(700,\n",
       " [0, 1.1368683772161603e-13, 603.5367940673132, 603.5367940673132, 700],\n",
       " [212.56332703213616,\n",
       "  212.56332703213616,\n",
       "  212.56332703213616,\n",
       "  272.2117202268431,\n",
       "  272.2117202268431])"
      ]
     },
     "execution_count": 3,
     "metadata": {},
     "output_type": "execute_result"
    }
   ],
   "source": [
    "pko.curva_de_oferta(\"EB\", \"[$/u]\", \"[u/mes]\")"
   ]
  },
  {
   "cell_type": "code",
   "execution_count": null,
   "id": "d55e002b",
   "metadata": {},
   "outputs": [
    {
     "name": "stdout",
     "output_type": "stream",
     "text": [
      "[debug] (lower, upper): (-1e+20, 1391.7958412098299)\n",
      "* Production model solved with objective: 190549\n",
      "* Total benefit=190549\n",
      "Production of EB: 212.56332703213616\n",
      "Production of EL: 30.0\n",
      "* Production model solved with objective: 190548\n",
      "* Total benefit=190548\n",
      "Production of EB: 272.2117202268431\n",
      "Production of EL: 0\n",
      "* Production model solved with objective: 190548\n",
      "* Total benefit=190548\n",
      "Production of EB: 272.2117202268431\n",
      "Production of EL: 0\n",
      "[debug] current_x_value: 1200\n"
     ]
    },
    {
     "data": {
      "text/plain": [
       "<Figure size 640x480 with 1 Axes>"
      ]
     },
     "metadata": {},
     "output_type": "display_data"
    },
    {
     "data": {
      "text/plain": [
       "(1200, [0, 1200, 1391.7958412098299, 1391.7958412098299], [0, 0, 0, 30.0])"
      ]
     },
     "execution_count": 4,
     "metadata": {},
     "output_type": "execute_result"
    }
   ],
   "source": [
    "pko.curva_de_oferta(\"EL\", \"[$/u]\", \"[u/mes]\")"
   ]
  },
  {
   "cell_type": "code",
   "execution_count": null,
   "id": "09c1c202",
   "metadata": {},
   "outputs": [
    {
     "name": "stdout",
     "output_type": "stream",
     "text": [
      "---Initial lower bound: 4627.5992438563335\n",
      "---\n",
      "- Adjusting RHS to: 4627.5992438563335\n",
      "* Production model solved with objective: 190548\n",
      "* Total benefit=190548\n",
      "Production of EB: 272.2117202268431\n",
      "Production of EL: 0\n",
      "---Initial upper bound: 1e+20\n",
      "---\n",
      "- Adjusting RHS to: 1e+20\n",
      "* Production model solved with objective: 190548\n",
      "* Total benefit=190548\n",
      "Production of EB: 272.2117202268431\n",
      "Production of EL: 0\n",
      "---\n",
      "- Adjusting RHS to: 4627.589243856333\n",
      "* Production model solved with objective: 190548\n",
      "* Total benefit=190548\n",
      "Production of EB: 272.21113199154905\n",
      "Production of EL: 0\n",
      "---\n",
      "- Adjusting RHS to: 510.0\n",
      "* Production model solved with objective: 21000\n",
      "* Total benefit=21000\n",
      "Production of EB: 30.0\n",
      "Production of EL: 0\n",
      "---\n",
      "- Adjusting RHS to: 509.99\n",
      "No solution found for RHS value: 509.99\n",
      "---\n",
      "- Adjusting RHS to: 15000\n",
      "* Production model solved with objective: 190548\n",
      "* Total benefit=190548\n",
      "Production of EB: 272.2117202268431\n",
      "Production of EL: 0\n",
      "[debug] pairs [(15000, 190548.20415879018), (4627.5992438563335, 190548.20415879018), (510.0, 21000.0)]\n",
      "[debug] pairs [(510.0, 21000.0), (4627.5992438563335, 190548.20415879018), (15000, 190548.20415879018)]\n",
      "[debug] new_rhs [510.0, 4627.5992438563335, 15000]\n",
      "[debug] new_dual [21000.0, 190548.20415879018, 190548.20415879018]\n",
      "[debug] current_x_value: 15000\n"
     ]
    },
    {
     "data": {
      "text/plain": [
       "<Figure size 640x480 with 1 Axes>"
      ]
     },
     "metadata": {},
     "output_type": "display_data"
    },
    {
     "data": {
      "text/plain": [
       "(15000,\n",
       " [15000, 4627.5992438563335, 510.0],\n",
       " [190548.20415879018, 190548.20415879018, 21000.0])"
      ]
     },
     "execution_count": 5,
     "metadata": {},
     "output_type": "execute_result"
    }
   ],
   "source": [
    "# 2. Análisis funcional de disponibilidad de madera\n",
    "pko.funcional(\"Disp_Madera\", \"[kg/mes]\", \"[\\$/mes]\")"
   ]
  },
  {
   "cell_type": "code",
   "execution_count": null,
   "id": "fd02ccf1",
   "metadata": {},
   "outputs": [
    {
     "name": "stdout",
     "output_type": "stream",
     "text": [
      "Demanda mínima No encontrada para el producto EL.\n",
      "[debug] (lower, upper): (272.2117202268431, 1e+20)\n",
      "---\n",
      "- Adjusting RHS to: 272.2017202268431\n",
      "* Production model solved with objective: 190541\n",
      "* Total benefit=190541\n",
      "Production of EB: 272.2017202268431\n",
      "Production of EL: 0\n",
      "---\n",
      "- Adjusting RHS to: 30.0\n",
      "* Production model solved with objective: 21000\n",
      "* Total benefit=21000\n",
      "Production of EB: 30.0\n",
      "Production of EL: 0\n",
      "---\n",
      "- Adjusting RHS to: 29.99\n",
      "No solution found for RHS value: 29.99\n",
      "---\n",
      "- Adjusting RHS to: 640\n",
      "* Production model solved with objective: 190548\n",
      "* Total benefit=190548\n",
      "Production of EB: 272.2117202268431\n",
      "Production of EL: 0\n",
      "[debug] current_x_value: 640\n"
     ]
    },
    {
     "data": {
      "text/plain": [
       "<Figure size 640x480 with 1 Axes>"
      ]
     },
     "metadata": {},
     "output_type": "display_data"
    },
    {
     "data": {
      "text/plain": [
       "(640,\n",
       " [30.0, 272.2117202268431, 272.2117202268431, 640],\n",
       " [60.0, 60.0, 191.79584120982983, 191.79584120982983])"
      ]
     },
     "execution_count": 6,
     "metadata": {},
     "output_type": "execute_result"
    }
   ],
   "source": [
    "# 3. Costo de oportunidad del producto EL respecto al recurso Maquinaria CEA\n",
    "pko.costo_oportunidad(\"EL\", \"Disp_MAQ_CEA\", \"[hs/mes]\", \"[\\$/un]\")\n"
   ]
  },
  {
   "cell_type": "code",
   "execution_count": null,
   "id": "f9fd93ea",
   "metadata": {},
   "outputs": [
    {
     "name": "stdout",
     "output_type": "stream",
     "text": [
      "[debug] (lower, upper): (272.2117202268431, 1e+20)\n",
      "---\n",
      "- Adjusting RHS to: 272.2017202268431\n",
      "* Production model solved with objective: 190541\n",
      "* Total benefit=190541\n",
      "Production of EB: 272.2017202268431\n",
      "Production of EL: 0\n",
      "---\n",
      "- Adjusting RHS to: 30.0\n",
      "* Production model solved with objective: 21000\n",
      "* Total benefit=21000\n",
      "Production of EB: 30.0\n",
      "Production of EL: 0\n",
      "---\n",
      "- Adjusting RHS to: 29.99\n",
      "No solution found for RHS value: 29.99\n",
      "---\n",
      "- Adjusting RHS to: 640\n",
      "* Production model solved with objective: 190548\n",
      "* Total benefit=190548\n",
      "Production of EB: 272.2117202268431\n",
      "Production of EL: 0\n",
      "[debug] current_x_value: 640\n"
     ]
    },
    {
     "data": {
      "text/plain": [
       "<Figure size 640x480 with 1 Axes>"
      ]
     },
     "metadata": {},
     "output_type": "display_data"
    },
    {
     "data": {
      "text/plain": [
       "(640, [30.0, 272.2117202268431, 272.2117202268431, 640], [700.0, 700.0, 0, 0])"
      ]
     },
     "execution_count": 7,
     "metadata": {},
     "output_type": "execute_result"
    }
   ],
   "source": [
    "# 4. Valor marginal del recurso Horas Maquina del CEA\n",
    "pko.vm(\"Disp_MAQ_CEA\", \"[hs/mes]\", \"[\\$/un]\")"
   ]
  }
 ],
 "metadata": {
  "language_info": {
   "name": "python",
   "pygments_lexer": "ipython3"
  }
 },
 "nbformat": 4,
 "nbformat_minor": 5
}
