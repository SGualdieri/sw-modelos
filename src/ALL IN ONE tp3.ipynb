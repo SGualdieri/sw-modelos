{
 "cells": [
  {
   "cell_type": "markdown",
   "id": "ae976daf",
   "metadata": {},
   "source": [
    "# Desde una sola clase"
   ]
  },
  {
   "cell_type": "markdown",
   "id": "24e185e4",
   "metadata": {},
   "source": [
    "## Cargar los datos y crear el modelo"
   ]
  },
  {
   "cell_type": "code",
   "execution_count": null,
   "id": "d1f6c89d",
   "metadata": {},
   "outputs": [
    {
     "name": "stdout",
     "output_type": "stream",
     "text": [
      "Model: guia5problematipo2\n",
      " - number of variables: 3\n",
      "   - binary=0, integer=0, continuous=3\n",
      " - number of constraints: 9\n",
      "   - linear=9\n",
      " - parameters: defaults\n",
      " - objective: none\n",
      " - problem type is: LP\n",
      "* Production model solved with objective: 5700\n",
      "* Total benefit=5700\n",
      "Production of A: 50.0\n",
      "Production of B: 80.0\n",
      "Production of C: 0\n"
     ]
    }
   ],
   "source": [
    "# Cargar los datos y obtener el modelo\n",
    "from data_and_model_construction.data import create_data_dict\n",
    "from data_and_model_construction.common_model import create_model, solve_model, print_model\n",
    "\n",
    "data = create_data_dict()\n",
    "mdl, production_vars, products = create_model(data)\n",
    "solve_model(mdl, production_vars, products)"
   ]
  },
  {
   "cell_type": "code",
   "execution_count": null,
   "id": "de6ac910",
   "metadata": {},
   "outputs": [],
   "source": [
    "from plot_kind.plot_kind_orchestrator import PlotKindOrchestrator\n",
    "\n",
    "pko = PlotKindOrchestrator(mdl, products, production_vars)"
   ]
  },
  {
   "cell_type": "code",
   "execution_count": null,
   "id": "ff42708b",
   "metadata": {},
   "outputs": [
    {
     "name": "stdout",
     "output_type": "stream",
     "text": [
      "[debug] (lower, upper): (29.999999999999993, 1e+20)\n",
      "* Production model solved with objective: 4700\n",
      "* Total benefit=4700\n",
      "Production of A: 0\n",
      "Production of B: 80.0\n",
      "Production of C: 50.0\n",
      "* Production model solved with objective: 4700\n",
      "* Total benefit=4700\n",
      "Production of A: 0\n",
      "Production of B: 80.0\n",
      "Production of C: 50.0\n",
      "* Production model solved with objective: 5700\n",
      "* Total benefit=5700\n",
      "Production of A: 50.0\n",
      "Production of B: 80.0\n",
      "Production of C: 0\n",
      "[debug] current_x_value: 50\n"
     ]
    },
    {
     "data": {
      "text/plain": [
       "<Figure size 640x480 with 1 Axes>"
      ]
     },
     "metadata": {},
     "output_type": "display_data"
    },
    {
     "data": {
      "text/plain": [
       "(50, [0, 29.999999999999993, 29.999999999999993, 50], [0, 0, 50.0, 50.0])"
      ]
     },
     "execution_count": 3,
     "metadata": {},
     "output_type": "execute_result"
    }
   ],
   "source": [
    "pko.curva_de_oferta(\"A\", \"[$/u]\", \"[u/mes]\")"
   ]
  },
  {
   "cell_type": "code",
   "execution_count": null,
   "id": "09c1c202",
   "metadata": {},
   "outputs": [
    {
     "name": "stdout",
     "output_type": "stream",
     "text": [
      "---Initial lower bound: 80.0\n",
      "---\n",
      "- Adjusting RHS to: 80.0\n",
      "* Production model solved with objective: 3200\n",
      "* Total benefit=3200\n",
      "Production of A: 0\n",
      "Production of B: 80.0\n",
      "Production of C: 0\n",
      "---Initial upper bound: 140.0\n",
      "---\n",
      "- Adjusting RHS to: 140.0\n",
      "* Production model solved with objective: 8200\n",
      "* Total benefit=8200\n",
      "Production of A: 100.0\n",
      "Production of B: 80.0\n",
      "Production of C: 0\n",
      "---\n",
      "- Adjusting RHS to: 79.99\n",
      "No solution found for RHS value: 79.99\n",
      "---\n",
      "- Adjusting RHS to: 140.01\n",
      "* Production model solved with objective: 8200.5\n",
      "* Total benefit=8200.5\n",
      "Production of A: 100.0\n",
      "Production of B: 80.0\n",
      "Production of C: 0.01666666666665151\n",
      "---\n",
      "- Adjusting RHS to: 172.0\n",
      "* Production model solved with objective: 9800\n",
      "* Total benefit=9800\n",
      "Production of A: 100.0\n",
      "Production of B: 80.0\n",
      "Production of C: 53.33333333333334\n",
      "---\n",
      "- Adjusting RHS to: 172.01\n",
      "* Production model solved with objective: 9800.3\n",
      "* Total benefit=9800.3\n",
      "Production of A: 99.99000000000001\n",
      "Production of B: 80.0\n",
      "Production of C: 53.359999999999985\n",
      "---\n",
      "- Adjusting RHS to: 272.0\n",
      "* Production model solved with objective: 12800\n",
      "* Total benefit=12800\n",
      "Production of A: 0\n",
      "Production of B: 80.0\n",
      "Production of C: 320.0\n",
      "---\n",
      "- Adjusting RHS to: 272.01\n",
      "* Production model solved with objective: 12800\n",
      "* Total benefit=12800\n",
      "Production of A: 0\n",
      "Production of B: 80.0\n",
      "Production of C: 320.0\n",
      "---\n",
      "- Adjusting RHS to: 110\n",
      "* Production model solved with objective: 5700\n",
      "* Total benefit=5700\n",
      "Production of A: 50.0\n",
      "Production of B: 80.0\n",
      "Production of C: 0\n",
      "[debug] pairs [(110, 5700.0), (80.0, 3200.0), (140.0, 8200.0), (172.0, 9800.0), (272.0, 12800.0)]\n",
      "[debug] pairs [(80.0, 3200.0), (110, 5700.0), (140.0, 8200.0), (172.0, 9800.0), (272.0, 12800.0)]\n",
      "[debug] new_rhs [80.0, 110, 140.0, 172.0, 272.0]\n",
      "[debug] new_dual [3200.0, 5700.0, 8200.0, 9800.0, 12800.0]\n",
      "[debug] current_x_value: 110\n"
     ]
    },
    {
     "data": {
      "text/plain": [
       "<Figure size 640x480 with 1 Axes>"
      ]
     },
     "metadata": {},
     "output_type": "display_data"
    },
    {
     "data": {
      "text/plain": [
       "(110,\n",
       " [110, 80.0, 140.0, 172.0, 272.0],\n",
       " [5700.0, 3200.0, 8200.0, 9800.0, 12800.0])"
      ]
     },
     "execution_count": 4,
     "metadata": {},
     "output_type": "execute_result"
    }
   ],
   "source": [
    "pko.funcional(\"Disp_Equipo3\", \"[hs/mes]\", \"[$/mes]\")"
   ]
  },
  {
   "cell_type": "code",
   "execution_count": null,
   "id": "fd02ccf1",
   "metadata": {},
   "outputs": [
    {
     "name": "stdout",
     "output_type": "stream",
     "text": [
      "Demanda mínima encontrada para el producto B.\n",
      "[debug] (lower, upper): (80.0, 140.0)\n",
      "---\n",
      "- Adjusting RHS to: 79.99\n",
      "No solution found for RHS value: 79.99\n",
      "---\n",
      "- Adjusting RHS to: 140.01\n",
      "* Production model solved with objective: 8200.5\n",
      "* Total benefit=8200.5\n",
      "Production of A: 100.0\n",
      "Production of B: 80.0\n",
      "Production of C: 0.01666666666665151\n",
      "---\n",
      "- Adjusting RHS to: 172.0\n",
      "* Production model solved with objective: 9800\n",
      "* Total benefit=9800\n",
      "Production of A: 100.0\n",
      "Production of B: 80.0\n",
      "Production of C: 53.33333333333334\n",
      "---\n",
      "- Adjusting RHS to: 172.01\n",
      "* Production model solved with objective: 9800.3\n",
      "* Total benefit=9800.3\n",
      "Production of A: 99.99000000000001\n",
      "Production of B: 80.0\n",
      "Production of C: 53.359999999999985\n",
      "---\n",
      "- Adjusting RHS to: 272.0\n",
      "* Production model solved with objective: 12800\n",
      "* Total benefit=12800\n",
      "Production of A: 0\n",
      "Production of B: 80.0\n",
      "Production of C: 320.0\n",
      "---\n",
      "- Adjusting RHS to: 272.01\n",
      "* Production model solved with objective: 12800\n",
      "* Total benefit=12800\n",
      "Production of A: 0\n",
      "Production of B: 80.0\n",
      "Production of C: 320.0\n",
      "---\n",
      "- Adjusting RHS to: 110\n",
      "* Production model solved with objective: 5700\n",
      "* Total benefit=5700\n",
      "Production of A: 50.0\n",
      "Production of B: 80.0\n",
      "Production of C: 0\n",
      "[debug] current_x_value: 110\n"
     ]
    },
    {
     "data": {
      "text/plain": [
       "<Figure size 640x480 with 1 Axes>"
      ]
     },
     "metadata": {},
     "output_type": "display_data"
    },
    {
     "data": {
      "text/plain": [
       "(110,\n",
       " [80.0, 110, 140.0, 140.0, 172.0, 172.0, 272.0, 272.0],\n",
       " [43.33333333333334,\n",
       "  43.33333333333334,\n",
       "  43.33333333333334,\n",
       "  10.0,\n",
       "  10.0,\n",
       "  22.0,\n",
       "  22.0,\n",
       "  40.0])"
      ]
     },
     "execution_count": 5,
     "metadata": {},
     "output_type": "execute_result"
    }
   ],
   "source": [
    "pko.costo_oportunidad(\"B\", \"Disp_Equipo3\", \"[hs/mes]\", \"[$/un]\")"
   ]
  },
  {
   "cell_type": "code",
   "execution_count": null,
   "id": "f9fd93ea",
   "metadata": {},
   "outputs": [
    {
     "name": "stdout",
     "output_type": "stream",
     "text": [
      "[debug] (lower, upper): (80.0, 140.0)\n",
      "---\n",
      "- Adjusting RHS to: 79.99\n",
      "No solution found for RHS value: 79.99\n",
      "---\n",
      "- Adjusting RHS to: 140.01\n",
      "* Production model solved with objective: 8200.5\n",
      "* Total benefit=8200.5\n",
      "Production of A: 100.0\n",
      "Production of B: 80.0\n",
      "Production of C: 0.01666666666665151\n",
      "---\n",
      "- Adjusting RHS to: 172.0\n",
      "* Production model solved with objective: 9800\n",
      "* Total benefit=9800\n",
      "Production of A: 100.0\n",
      "Production of B: 80.0\n",
      "Production of C: 53.33333333333334\n",
      "---\n",
      "- Adjusting RHS to: 172.01\n",
      "* Production model solved with objective: 9800.3\n",
      "* Total benefit=9800.3\n",
      "Production of A: 99.99000000000001\n",
      "Production of B: 80.0\n",
      "Production of C: 53.359999999999985\n",
      "---\n",
      "- Adjusting RHS to: 272.0\n",
      "* Production model solved with objective: 12800\n",
      "* Total benefit=12800\n",
      "Production of A: 0\n",
      "Production of B: 80.0\n",
      "Production of C: 320.0\n",
      "---\n",
      "- Adjusting RHS to: 272.01\n",
      "* Production model solved with objective: 12800\n",
      "* Total benefit=12800\n",
      "Production of A: 0\n",
      "Production of B: 80.0\n",
      "Production of C: 320.0\n",
      "---\n",
      "- Adjusting RHS to: 110\n",
      "* Production model solved with objective: 5700\n",
      "* Total benefit=5700\n",
      "Production of A: 50.0\n",
      "Production of B: 80.0\n",
      "Production of C: 0\n",
      "[debug] current_x_value: 110\n"
     ]
    },
    {
     "data": {
      "text/plain": [
       "<Figure size 640x480 with 1 Axes>"
      ]
     },
     "metadata": {},
     "output_type": "display_data"
    },
    {
     "data": {
      "text/plain": [
       "(110,\n",
       " [80.0, 110, 140.0, 140.0, 172.0, 172.0, 272.0, 272.0],\n",
       " [83.33333333333334,\n",
       "  83.33333333333334,\n",
       "  83.33333333333334,\n",
       "  50.0,\n",
       "  50.0,\n",
       "  30.0,\n",
       "  30.0,\n",
       "  0])"
      ]
     },
     "execution_count": 7,
     "metadata": {},
     "output_type": "execute_result"
    }
   ],
   "source": [
    "pko.vm(\"Disp_Equipo3\", \"[hs/mes]\", \"[$/un]\")"
   ]
  }
 ],
 "metadata": {
  "language_info": {
   "name": "python",
   "pygments_lexer": "ipython3"
  }
 },
 "nbformat": 4,
 "nbformat_minor": 5
}
