{
 "cells": [
  {
   "cell_type": "markdown",
   "id": "ae976daf",
   "metadata": {},
   "source": [
    "# Desde una sola clase"
   ]
  },
  {
   "cell_type": "markdown",
   "id": "24e185e4",
   "metadata": {},
   "source": [
    "## Cargar los datos y crear el modelo"
   ]
  },
  {
   "cell_type": "code",
   "execution_count": null,
   "id": "d1f6c89d",
   "metadata": {},
   "outputs": [
    {
     "name": "stdout",
     "output_type": "stream",
     "text": [
      "Model: produccion_muebles_hogar\n",
      " - number of variables: 17\n",
      "   - binary=0, integer=0, continuous=17\n",
      " - number of constraints: 22\n",
      "   - linear=22\n",
      " - parameters: defaults\n",
      " - objective: maximize\n",
      " - problem type is: LP\n",
      "* Production model solved with objective: 70323.5\n",
      "Production of EB: 163.33333333333331\n",
      "Production of EL: 30.0\n"
     ]
    }
   ],
   "source": [
    "# Cargar los datos y obtener el modelo\n",
    "from data_and_model_construction.data_tp3 import create_data_dict\n",
    "from data_and_model_construction.common_model_tp3 import create_model, solve_model, print_model\n",
    "\n",
    "data = create_data_dict()\n",
    "mdl, production_vars, products = create_model(data)\n",
    "solve_model(mdl, production_vars, products)"
   ]
  },
  {
   "cell_type": "code",
   "execution_count": null,
   "id": "de6ac910",
   "metadata": {},
   "outputs": [],
   "source": [
    "from plot_kind.plot_kind_orchestrator import PlotKindOrchestrator\n",
    "\n",
    "pko = PlotKindOrchestrator(mdl, products, production_vars)"
   ]
  },
  {
   "cell_type": "code",
   "execution_count": null,
   "id": "ff42708b",
   "metadata": {},
   "outputs": [
    {
     "name": "stdout",
     "output_type": "stream",
     "text": [
      "[debug] (lower, upper): (290.95, 603.8560000000001)\n",
      "* Production model solved with objective: 80520.2\n",
      "* Total benefit=80520.2\n",
      "Production of EB: 163.33333333333331\n",
      "Production of EL: 30.0\n",
      "* Production model solved with objective: 33000\n",
      "* Total benefit=33000\n",
      "Production of EB: 163.33333333333331\n",
      "Production of EL: 30.0\n",
      "* Production model solved with objective: 131631\n",
      "* Total benefit=131631\n",
      "Production of EB: 163.33333333333331\n",
      "Production of EL: 30.0\n",
      "* Production model solved with objective: 140800\n",
      "* Total benefit=140800\n",
      "Production of EB: 163.33333333333331\n",
      "Production of EL: 30.0\n",
      "* Production model solved with objective: 140802\n",
      "* Total benefit=140802\n",
      "Production of EB: 188.33333333333331\n",
      "Production of EL: 15.0\n",
      "* Production model solved with objective: 33000\n",
      "* Total benefit=33000\n",
      "Production of EB: 163.33333333333331\n",
      "Production of EL: 30.0\n",
      "* Production model solved with objective: 131000\n",
      "* Total benefit=131000\n",
      "Production of EB: 163.33333333333331\n",
      "Production of EL: 30.0\n",
      "[debug] current_x_value: 600\n"
     ]
    },
    {
     "data": {
      "text/plain": [
       "<Figure size 640x480 with 1 Axes>"
      ]
     },
     "metadata": {},
     "output_type": "display_data"
    },
    {
     "data": {
      "text/plain": [
       "(600,\n",
       " [0,\n",
       "  0.0,\n",
       "  290.95,\n",
       "  290.95,\n",
       "  600,\n",
       "  603.8560000000001,\n",
       "  603.8560000000001,\n",
       "  660.0000000000001,\n",
       "  660.0000000000001],\n",
       " [163.33333333333331,\n",
       "  163.33333333333331,\n",
       "  163.33333333333331,\n",
       "  163.33333333333331,\n",
       "  163.33333333333331,\n",
       "  163.33333333333331,\n",
       "  163.33333333333331,\n",
       "  163.33333333333331,\n",
       "  188.33333333333331])"
      ]
     },
     "execution_count": 3,
     "metadata": {},
     "output_type": "execute_result"
    }
   ],
   "source": [
    "pko.curva_de_oferta(\"EB\", \"[$/u]\", \"[u/mes]\")"
   ]
  },
  {
   "cell_type": "code",
   "execution_count": null,
   "id": "d55e002b",
   "metadata": {},
   "outputs": [
    {
     "name": "stdout",
     "output_type": "stream",
     "text": [
      "[debug] (lower, upper): (999.9999999999999, 1e+20)\n",
      "* Production model solved with objective: 128000\n",
      "* Total benefit=128000\n",
      "Production of EB: 188.33333333333331\n",
      "Production of EL: 15.0\n"
     ]
    },
    {
     "name": "stdout",
     "output_type": "stream",
     "text": [
      "* Production model solved with objective: 113000\n",
      "* Total benefit=113000\n",
      "Production of EB: 188.33333333333331\n",
      "Production of EL: 15.0\n",
      "* Production model solved with objective: 131000\n",
      "* Total benefit=131000\n",
      "Production of EB: 163.33333333333331\n",
      "Production of EL: 30.0\n",
      "[debug] current_x_value: 1100\n"
     ]
    },
    {
     "data": {
      "text/plain": [
       "<Figure size 640x480 with 1 Axes>"
      ]
     },
     "metadata": {},
     "output_type": "display_data"
    },
    {
     "data": {
      "text/plain": [
       "(1100,\n",
       " [0, 999.9999999999999, 999.9999999999999, 1100],\n",
       " [15.0, 15.0, 30.0, 30.0])"
      ]
     },
     "execution_count": 4,
     "metadata": {},
     "output_type": "execute_result"
    }
   ],
   "source": [
    "pko.curva_de_oferta(\"EL\", \"[$/u]\", \"[u/mes]\")"
   ]
  },
  {
   "cell_type": "code",
   "execution_count": null,
   "id": "09c1c202",
   "metadata": {},
   "outputs": [
    {
     "name": "stdout",
     "output_type": "stream",
     "text": [
      "---Initial lower bound: 3796.666666666666\n",
      "---\n",
      "- Adjusting RHS to: 3796.666666666666\n",
      "* Production model solved with objective: 131000\n",
      "* Total benefit=131000\n",
      "Production of EB: 163.33333333333331\n",
      "Production of EL: 30.0\n",
      "---Initial upper bound: 1e+20\n",
      "---\n",
      "- Adjusting RHS to: 1e+20\n",
      "* Production model solved with objective: 131000\n",
      "* Total benefit=131000\n",
      "Production of EB: 163.33333333333331\n",
      "Production of EL: 30.0\n",
      "---\n",
      "- Adjusting RHS to: 3796.656666666666\n",
      "* Production model solved with objective: 131000\n",
      "* Total benefit=131000\n",
      "Production of EB: 163.33627450980407\n",
      "Production of EL: 29.99823529411755\n",
      "---\n",
      "- Adjusting RHS to: 3711.6666666666665\n",
      "* Production model solved with objective: 129500\n",
      "* Total benefit=129500\n",
      "Production of EB: 188.33333333333326\n",
      "Production of EL: 15.000000000000043\n",
      "---\n",
      "- Adjusting RHS to: 3711.6566666666663\n",
      "* Production model solved with objective: 129500\n",
      "* Total benefit=129500\n",
      "Production of EB: 188.33274509803923\n",
      "Production of EL: 15.0\n"
     ]
    },
    {
     "name": "stdout",
     "output_type": "stream",
     "text": [
      "---\n",
      "- Adjusting RHS to: 1019.9999999999995\n",
      "* Production model solved with objective: 34500\n",
      "* Total benefit=34500\n",
      "Production of EB: 29.999999999999975\n",
      "Production of EL: 15.0\n",
      "---\n",
      "- Adjusting RHS to: 1019.9899999999996\n",
      "No solution found for RHS value: 1019.9899999999996\n",
      "---\n",
      "- Adjusting RHS to: 15000\n",
      "* Production model solved with objective: 131000\n",
      "* Total benefit=131000\n",
      "Production of EB: 163.33333333333331\n",
      "Production of EL: 30.0\n",
      "[debug] pairs [(15000, 130999.99999999999), (3796.666666666666, 130999.99999999999), (3711.6666666666665, 129500.0), (1019.9999999999995, 34499.999999999985)]\n",
      "[debug] pairs [(1019.9999999999995, 34499.999999999985), (3711.6666666666665, 129500.0), (3796.666666666666, 130999.99999999999), (15000, 130999.99999999999)]\n",
      "[debug] new_rhs [1019.9999999999995, 3711.6666666666665, 3796.666666666666, 15000]\n",
      "[debug] new_dual [34499.999999999985, 129500.0, 130999.99999999999, 130999.99999999999]\n",
      "[debug] current_x_value: 15000\n"
     ]
    },
    {
     "data": {
      "text/plain": [
       "<Figure size 640x480 with 1 Axes>"
      ]
     },
     "metadata": {},
     "output_type": "display_data"
    },
    {
     "data": {
      "text/plain": [
       "(15000,\n",
       " [15000, 3796.666666666666, 3711.6666666666665, 1019.9999999999995],\n",
       " [130999.99999999999, 130999.99999999999, 129500.0, 34499.999999999985])"
      ]
     },
     "execution_count": 5,
     "metadata": {},
     "output_type": "execute_result"
    }
   ],
   "source": [
    "# 2. Análisis funcional de disponibilidad de madera\n",
    "pko.funcional(\"Disp_Madera\", \"[kg/mes]\", \"[\\$/mes]\")"
   ]
  },
  {
   "cell_type": "code",
   "execution_count": null,
   "id": "fd02ccf1",
   "metadata": {},
   "outputs": [
    {
     "name": "stdout",
     "output_type": "stream",
     "text": [
      "Demanda mínima encontrada para el producto EL.\n"
     ]
    },
    {
     "ename": "AttributeError",
     "evalue": "'NoneType' object has no attribute 'dual_value'",
     "output_type": "error",
     "traceback": [
      "\u001b[0;31m---------------------------------------------------------------------------\u001b[0m",
      "\u001b[0;31mAttributeError\u001b[0m                            Traceback (most recent call last)",
      "Cell \u001b[0;32mIn[6], line 2\u001b[0m\n\u001b[1;32m      1\u001b[0m \u001b[38;5;66;03m# 3. Costo de oportunidad del producto EL respecto al recurso Maquinaria CEA\u001b[39;00m\n\u001b[0;32m----> 2\u001b[0m \u001b[43mpko\u001b[49m\u001b[38;5;241;43m.\u001b[39;49m\u001b[43mcosto_oportunidad\u001b[49m\u001b[43m(\u001b[49m\u001b[38;5;124;43m\"\u001b[39;49m\u001b[38;5;124;43mEL\u001b[39;49m\u001b[38;5;124;43m\"\u001b[39;49m\u001b[43m,\u001b[49m\u001b[43m \u001b[49m\u001b[38;5;124;43m\"\u001b[39;49m\u001b[38;5;124;43mDisp_MAQ_CEA\u001b[39;49m\u001b[38;5;124;43m\"\u001b[39;49m\u001b[43m,\u001b[49m\u001b[43m \u001b[49m\u001b[38;5;124;43m\"\u001b[39;49m\u001b[38;5;124;43m[hs/mes]\u001b[39;49m\u001b[38;5;124;43m\"\u001b[39;49m\u001b[43m,\u001b[49m\u001b[43m \u001b[49m\u001b[38;5;124;43m\"\u001b[39;49m\u001b[38;5;124;43m[\u001b[39;49m\u001b[38;5;124;43m\\\u001b[39;49m\u001b[38;5;124;43m$/un]\u001b[39;49m\u001b[38;5;124;43m\"\u001b[39;49m\u001b[43m)\u001b[49m\n",
      "File \u001b[0;32m~/Modelos/Tps/sw-modelos/src/plot_kind/plot_kind_orchestrator.py:21\u001b[0m, in \u001b[0;36mPlotKindOrchestrator.costo_oportunidad\u001b[0;34m(self, product_name, constraint_nameX, x_unit, y_unit)\u001b[0m\n\u001b[1;32m     19\u001b[0m \u001b[38;5;28;01mdef\u001b[39;00m\u001b[38;5;250m \u001b[39m\u001b[38;5;21mcosto_oportunidad\u001b[39m(\u001b[38;5;28mself\u001b[39m, product_name, constraint_nameX, x_unit, y_unit):\n\u001b[1;32m     20\u001b[0m     costo_op \u001b[38;5;241m=\u001b[39m CostoOportunidad(\u001b[38;5;28mself\u001b[39m\u001b[38;5;241m.\u001b[39mmdl, \u001b[38;5;28mself\u001b[39m\u001b[38;5;241m.\u001b[39mproducts, \u001b[38;5;28mself\u001b[39m\u001b[38;5;241m.\u001b[39mproduction_vars)\n\u001b[0;32m---> 21\u001b[0m     current_rhs_value, rhs_values, dual_values \u001b[38;5;241m=\u001b[39m \u001b[43mcosto_op\u001b[49m\u001b[38;5;241;43m.\u001b[39;49m\u001b[43miterate\u001b[49m\u001b[43m(\u001b[49m\u001b[43mconstraint_nameX\u001b[49m\u001b[43m,\u001b[49m\u001b[43m \u001b[49m\u001b[43mproduct_name\u001b[49m\u001b[43m)\u001b[49m\n\u001b[1;32m     22\u001b[0m     costo_op\u001b[38;5;241m.\u001b[39mplot(constraint_nameX, product_name, x_unit, y_unit)\n\u001b[1;32m     23\u001b[0m     \u001b[38;5;28;01mreturn\u001b[39;00m current_rhs_value, rhs_values, dual_values\n",
      "File \u001b[0;32m~/Modelos/Tps/sw-modelos/src/plot_kind/costo_op_vs_disp.py:37\u001b[0m, in \u001b[0;36mCostoOportunidad.iterate\u001b[0;34m(self, constraint_nameX, product_name)\u001b[0m\n\u001b[1;32m     36\u001b[0m \u001b[38;5;28;01mdef\u001b[39;00m\u001b[38;5;250m \u001b[39m\u001b[38;5;21miterate\u001b[39m(\u001b[38;5;28mself\u001b[39m, constraint_nameX, product_name):\n\u001b[0;32m---> 37\u001b[0m     \u001b[38;5;28mself\u001b[39m\u001b[38;5;241m.\u001b[39mcurrent_rhs_value, \u001b[38;5;28mself\u001b[39m\u001b[38;5;241m.\u001b[39mrhs_values, \u001b[38;5;28mself\u001b[39m\u001b[38;5;241m.\u001b[39mdual_values \u001b[38;5;241m=\u001b[39m \u001b[38;5;28;43mself\u001b[39;49m\u001b[38;5;241;43m.\u001b[39;49m\u001b[43miterate_over_rhs_checking_prod_min_dem\u001b[49m\u001b[43m(\u001b[49m\u001b[43mconstraint_nameX\u001b[49m\u001b[43m,\u001b[49m\u001b[43m \u001b[49m\u001b[43mproduct_name\u001b[49m\u001b[43m,\u001b[49m\u001b[43m \u001b[49m\u001b[38;5;28;43mself\u001b[39;49m\u001b[38;5;241;43m.\u001b[39;49m\u001b[43mproducts\u001b[49m\u001b[43m,\u001b[49m\u001b[43m \u001b[49m\u001b[38;5;28;43mself\u001b[39;49m\u001b[38;5;241;43m.\u001b[39;49m\u001b[43mproduction_vars\u001b[49m\u001b[43m,\u001b[49m\u001b[43m \u001b[49m\u001b[38;5;28;43mself\u001b[39;49m\u001b[38;5;241;43m.\u001b[39;49m\u001b[43mmdl\u001b[49m\u001b[43m)\u001b[49m\n\u001b[1;32m     39\u001b[0m     \u001b[38;5;28;01mreturn\u001b[39;00m \u001b[38;5;28mself\u001b[39m\u001b[38;5;241m.\u001b[39mcurrent_rhs_value, \u001b[38;5;28mself\u001b[39m\u001b[38;5;241m.\u001b[39mrhs_values, \u001b[38;5;28mself\u001b[39m\u001b[38;5;241m.\u001b[39mdual_values\n",
      "File \u001b[0;32m~/Modelos/Tps/sw-modelos/src/plot_kind/costo_op_vs_disp.py:77\u001b[0m, in \u001b[0;36mCostoOportunidad.iterate_over_rhs_checking_prod_min_dem\u001b[0;34m(self, constraint_nameX, product_name, products, production_vars, mdl)\u001b[0m\n\u001b[1;32m     74\u001b[0m     \u001b[38;5;28mself\u001b[39m\u001b[38;5;241m.\u001b[39m_prod_var \u001b[38;5;241m=\u001b[39m prod_var_or_min_dem_constraint \u001b[38;5;66;03m# []\u001b[39;00m\n\u001b[1;32m     76\u001b[0m iterator \u001b[38;5;241m=\u001b[39m RhsIterator(products, production_vars, constraint_nameX, prod_var_or_min_dem_constraint)\n\u001b[0;32m---> 77\u001b[0m \u001b[38;5;28;01mreturn\u001b[39;00m \u001b[43miterator\u001b[49m\u001b[38;5;241;43m.\u001b[39;49m\u001b[43miterate_over_rhs\u001b[49m\u001b[43m(\u001b[49m\u001b[43mmdl\u001b[49m\u001b[43m,\u001b[49m\u001b[43m \u001b[49m\u001b[43mget_y_function\u001b[49m\u001b[43m)\u001b[49m\n",
      "File \u001b[0;32m~/Modelos/Tps/sw-modelos/src/iterators/rhs_iterator.py:76\u001b[0m, in \u001b[0;36mRhsIterator.iterate_over_rhs\u001b[0;34m(self, mdl, get_y_function)\u001b[0m\n\u001b[1;32m     72\u001b[0m \u001b[38;5;66;03m#print(\"[debug] (lower, upper):\", (initial_lower, initial_upper)) \u001b[39;00m\n\u001b[1;32m     73\u001b[0m \n\u001b[1;32m     74\u001b[0m \u001b[38;5;66;03m# Obtengo punto actual\u001b[39;00m\n\u001b[1;32m     75\u001b[0m current_rhs_value \u001b[38;5;241m=\u001b[39m c\u001b[38;5;241m.\u001b[39mrhs\u001b[38;5;241m.\u001b[39mconstant\n\u001b[0;32m---> 76\u001b[0m current_dual_value \u001b[38;5;241m=\u001b[39m \u001b[43mget_y_function\u001b[49m\u001b[43m(\u001b[49m\u001b[38;5;28;43mself\u001b[39;49m\u001b[38;5;241;43m.\u001b[39;49m\u001b[43mconstraint_nameY\u001b[49m\u001b[43m)\u001b[49m\n\u001b[1;32m     78\u001b[0m iteration_results \u001b[38;5;241m=\u001b[39m \u001b[38;5;28msuper\u001b[39m()\u001b[38;5;241m.\u001b[39miterate_internal(\u001b[38;5;28mself\u001b[39m\u001b[38;5;241m.\u001b[39mconstraint_nameX, \u001b[38;5;28mself\u001b[39m\u001b[38;5;241m.\u001b[39mconstraint_nameY, current_rhs_value, current_dual_value, mdl, get_y_function)\n\u001b[1;32m     80\u001b[0m \u001b[38;5;66;03m# Restablezco el valor original, que fue modificado por solve durante la iteración\u001b[39;00m\n",
      "File \u001b[0;32m~/Modelos/Tps/sw-modelos/src/plot_kind/costo_op_vs_disp.py:51\u001b[0m, in \u001b[0;36mCostoOportunidad.get_y_with_min_dem\u001b[0;34m(self, min_dem_constraint)\u001b[0m\n\u001b[1;32m     50\u001b[0m \u001b[38;5;28;01mdef\u001b[39;00m\u001b[38;5;250m \u001b[39m\u001b[38;5;21mget_y_with_min_dem\u001b[39m(\u001b[38;5;28mself\u001b[39m, min_dem_constraint):\n\u001b[0;32m---> 51\u001b[0m     \u001b[38;5;28;01mreturn\u001b[39;00m \u001b[38;5;241m-\u001b[39m\u001b[38;5;241m1\u001b[39m \u001b[38;5;241m*\u001b[39m \u001b[43mmin_dem_constraint\u001b[49m\u001b[38;5;241;43m.\u001b[39;49m\u001b[43mdual_value\u001b[49m\n",
      "\u001b[0;31mAttributeError\u001b[0m: 'NoneType' object has no attribute 'dual_value'"
     ]
    }
   ],
   "source": [
    "# 3. Costo de oportunidad del producto EL respecto al recurso Maquinaria CEA\n",
    "pko.costo_oportunidad(\"EL\", \"Disp_MAQ_CEA\", \"[hs/mes]\", \"[\\$/un]\")\n"
   ]
  },
  {
   "cell_type": "code",
   "execution_count": null,
   "id": "f9fd93ea",
   "metadata": {},
   "outputs": [
    {
     "name": "stdout",
     "output_type": "stream",
     "text": [
      "[debug] (lower, upper): (416.51171439196725, 1e+20)\n",
      "---\n",
      "- Adjusting RHS to: 416.50171439196725\n",
      "* Production model solved with objective: 208251\n",
      "* Total benefit=208251\n",
      "Production of EB: 416.50171439196725\n",
      "Production of EL: 0\n",
      "---\n",
      "- Adjusting RHS to: 300.0\n",
      "* Production model solved with objective: 150000\n",
      "* Total benefit=150000\n",
      "Production of EB: 300.0\n",
      "Production of EL: 0\n",
      "---\n",
      "- Adjusting RHS to: 299.99\n",
      "No solution found for RHS value: 299.99\n",
      "---\n",
      "- Adjusting RHS to: 700\n",
      "* Production model solved with objective: 208256\n",
      "* Total benefit=208256\n",
      "Production of EB: 416.51171439196725\n",
      "Production of EL: 0\n",
      "[debug] current_x_value: 700\n"
     ]
    },
    {
     "data": {
      "text/plain": [
       "<Figure size 640x480 with 1 Axes>"
      ]
     },
     "metadata": {},
     "output_type": "display_data"
    },
    {
     "data": {
      "text/plain": [
       "(700,\n",
       " [300.0, 416.51171439196725, 416.51171439196725, 700],\n",
       " [500.0, 500.0, 0, 0])"
      ]
     },
     "execution_count": 7,
     "metadata": {},
     "output_type": "execute_result"
    }
   ],
   "source": [
    "# 4. Valor marginal del recurso Mano de Obra CPM\n",
    "pko.vm(\"Disp_MAQ_CEA\", \"[hs/mes]\", \"[\\$/un]\")"
   ]
  }
 ],
 "metadata": {
  "language_info": {
   "name": "python",
   "pygments_lexer": "ipython3"
  }
 },
 "nbformat": 4,
 "nbformat_minor": 5
}
