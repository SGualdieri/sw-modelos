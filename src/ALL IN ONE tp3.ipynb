{
 "cells": [
  {
   "cell_type": "markdown",
   "id": "ae976daf",
   "metadata": {},
   "source": [
    "# Desde una sola clase"
   ]
  },
  {
   "cell_type": "markdown",
   "id": "24e185e4",
   "metadata": {},
   "source": [
    "## Cargar los datos y crear el modelo"
   ]
  },
  {
   "cell_type": "code",
   "execution_count": null,
   "id": "d1f6c89d",
   "metadata": {},
   "outputs": [
    {
     "name": "stdout",
     "output_type": "stream",
     "text": [
      "Model: produccion_muebles_hogar\n",
      " - number of variables: 17\n",
      "   - binary=0, integer=12, continuous=5\n",
      " - number of constraints: 21\n",
      "   - linear=21\n",
      " - parameters: defaults\n",
      " - objective: maximize\n",
      " - problem type is: MILP\n",
      "* Production model solved with objective: 93338\n",
      "Production of EB: 430.0\n",
      "Production of EL: 0\n"
     ]
    }
   ],
   "source": [
    "# Cargar los datos y obtener el modelo\n",
    "from data_and_model_construction.data_tp3 import create_data_dict\n",
    "from data_and_model_construction.common_model_tp3 import create_model, solve_model, print_model\n",
    "\n",
    "data = create_data_dict()\n",
    "mdl, production_vars, products = create_model(data)\n",
    "solve_model(mdl, production_vars, products)"
   ]
  },
  {
   "cell_type": "code",
   "execution_count": null,
   "id": "de6ac910",
   "metadata": {},
   "outputs": [],
   "source": [
    "from plot_kind.plot_kind_orchestrator import PlotKindOrchestrator\n",
    "\n",
    "pko = PlotKindOrchestrator(mdl, products, production_vars)"
   ]
  },
  {
   "cell_type": "code",
   "execution_count": null,
   "id": "ff42708b",
   "metadata": {},
   "outputs": [
    {
     "name": "stdout",
     "output_type": "stream",
     "text": [
      "[debug] (lower, upper): (447.2956573468174, 1e+20)\n",
      "* Production model solved with objective: 193865\n",
      "* Total benefit=193865\n",
      "Production of EB: 363.0\n",
      "Production of EL: 35.0\n",
      "* Production model solved with objective: 54000\n",
      "* Total benefit=54000\n",
      "Production of EB: 308.0\n",
      "Production of EL: 60.0\n",
      "* Production model solved with objective: 215000\n",
      "* Total benefit=215000\n",
      "Production of EB: 430.0\n",
      "Production of EL: 0\n",
      "[debug] current_x_value: 500\n"
     ]
    },
    {
     "data": {
      "text/plain": [
       "<Figure size 640x480 with 1 Axes>"
      ]
     },
     "metadata": {},
     "output_type": "display_data"
    },
    {
     "data": {
      "text/plain": [
       "(500,\n",
       " [0, 447.2956573468174, 447.2956573468174, 500],\n",
       " [308.0, 363.0, 430.0, 430.0])"
      ]
     },
     "execution_count": 3,
     "metadata": {},
     "output_type": "execute_result"
    }
   ],
   "source": [
    "pko.curva_de_oferta(\"EB\", \"[$/u]\", \"[u/mes]\")"
   ]
  },
  {
   "cell_type": "code",
   "execution_count": null,
   "id": "d55e002b",
   "metadata": {},
   "outputs": [
    {
     "name": "stdout",
     "output_type": "stream",
     "text": [
      "[debug] (lower, upper): (-1e+20, 983.0409356725145)\n",
      "* Production model solved with objective: 215907\n",
      "* Total benefit=215907\n",
      "Production of EB: 363.0\n",
      "Production of EL: 35.0\n",
      "* Production model solved with objective: 215000\n",
      "* Total benefit=215000\n",
      "Production of EB: 430.0\n",
      "Production of EL: 0\n",
      "* Production model solved with objective: 215000\n",
      "* Total benefit=215000\n",
      "Production of EB: 430.0\n",
      "Production of EL: 0\n",
      "[debug] current_x_value: 900\n"
     ]
    },
    {
     "data": {
      "text/plain": [
       "<Figure size 640x480 with 1 Axes>"
      ]
     },
     "metadata": {},
     "output_type": "display_data"
    },
    {
     "data": {
      "text/plain": [
       "(900, [0, 900, 983.0409356725145, 983.0409356725145], [0, 0, 0, 35.0])"
      ]
     },
     "execution_count": 4,
     "metadata": {},
     "output_type": "execute_result"
    }
   ],
   "source": [
    "pko.curva_de_oferta(\"EL\", \"[$/u]\", \"[u/mes]\")"
   ]
  },
  {
   "cell_type": "code",
   "execution_count": null,
   "id": "09c1c202",
   "metadata": {},
   "outputs": [
    {
     "name": "stdout",
     "output_type": "stream",
     "text": [
      "---Initial lower bound: 10818.713450292396\n",
      "---\n",
      "- Adjusting RHS to: 10818.713450292396\n",
      "* Production model solved with objective: 215000\n",
      "* Total benefit=215000\n",
      "Production of EB: 430.0\n",
      "Production of EL: 0\n",
      "---Initial upper bound: 1e+20\n",
      "---\n",
      "- Adjusting RHS to: 1e+20\n",
      "* Production model solved with objective: 215000\n",
      "* Total benefit=215000\n",
      "Production of EB: 430.0\n",
      "Production of EL: 0\n",
      "---\n",
      "- Adjusting RHS to: 10818.703450292396\n",
      "* Production model solved with objective: 215000\n",
      "* Total benefit=215000\n",
      "Production of EB: 430.0\n",
      "Production of EL: 0\n",
      "---\n",
      "- Adjusting RHS to: 7499.999999999999\n",
      "* Production model solved with objective: 150000\n",
      "* Total benefit=150000\n",
      "Production of EB: 300.0\n",
      "Production of EL: 0\n",
      "---\n",
      "- Adjusting RHS to: 7499.989999999999\n",
      "No solution found for RHS value: 7499.989999999999\n",
      "---\n",
      "- Adjusting RHS to: 15000\n",
      "* Production model solved with objective: 215000\n",
      "* Total benefit=215000\n",
      "Production of EB: 430.0\n",
      "Production of EL: 0\n",
      "[debug] pairs [(15000, 215000.0), (10818.713450292396, 215000.0), (7499.999999999999, 150000.0)]\n",
      "[debug] pairs [(7499.999999999999, 150000.0), (10818.713450292396, 215000.0), (15000, 215000.0)]\n",
      "[debug] new_rhs [7499.999999999999, 10818.713450292396, 15000]\n",
      "[debug] new_dual [150000.0, 215000.0, 215000.0]\n",
      "[debug] current_x_value: 15000\n"
     ]
    },
    {
     "data": {
      "text/plain": [
       "<Figure size 640x480 with 1 Axes>"
      ]
     },
     "metadata": {},
     "output_type": "display_data"
    },
    {
     "data": {
      "text/plain": [
       "(15000,\n",
       " [15000, 10818.713450292396, 7499.999999999999],\n",
       " [215000.0, 215000.0, 150000.0])"
      ]
     },
     "execution_count": 5,
     "metadata": {},
     "output_type": "execute_result"
    }
   ],
   "source": [
    "# 2. Análisis funcional de disponibilidad de madera\n",
    "pko.funcional(\"Disp_Madera\", \"[kg/mes]\", \"[\\$/mes]\")"
   ]
  },
  {
   "cell_type": "code",
   "execution_count": null,
   "id": "fd02ccf1",
   "metadata": {},
   "outputs": [
    {
     "name": "stdout",
     "output_type": "stream",
     "text": [
      "Demanda mínima No encontrada para el producto EL.\n"
     ]
    },
    {
     "ename": "DOcplexException",
     "evalue": "reduced costs are not available for integer problems",
     "output_type": "error",
     "traceback": [
      "\u001b[0;31m---------------------------------------------------------------------------\u001b[0m",
      "\u001b[0;31mDOcplexException\u001b[0m                          Traceback (most recent call last)",
      "Cell \u001b[0;32mIn[6], line 2\u001b[0m\n\u001b[1;32m      1\u001b[0m \u001b[38;5;66;03m# 3. Costo de oportunidad del producto EL respecto al recurso Maquinaria CEA\u001b[39;00m\n\u001b[0;32m----> 2\u001b[0m \u001b[43mpko\u001b[49m\u001b[38;5;241;43m.\u001b[39;49m\u001b[43mcosto_oportunidad\u001b[49m\u001b[43m(\u001b[49m\u001b[38;5;124;43m\"\u001b[39;49m\u001b[38;5;124;43mEL\u001b[39;49m\u001b[38;5;124;43m\"\u001b[39;49m\u001b[43m,\u001b[49m\u001b[43m \u001b[49m\u001b[38;5;124;43m\"\u001b[39;49m\u001b[38;5;124;43mDisp_MAQ_CEA\u001b[39;49m\u001b[38;5;124;43m\"\u001b[39;49m\u001b[43m,\u001b[49m\u001b[43m \u001b[49m\u001b[38;5;124;43m\"\u001b[39;49m\u001b[38;5;124;43m[hs/mes]\u001b[39;49m\u001b[38;5;124;43m\"\u001b[39;49m\u001b[43m,\u001b[49m\u001b[43m \u001b[49m\u001b[38;5;124;43m\"\u001b[39;49m\u001b[38;5;124;43m[\u001b[39;49m\u001b[38;5;124;43m\\\u001b[39;49m\u001b[38;5;124;43m$/un]\u001b[39;49m\u001b[38;5;124;43m\"\u001b[39;49m\u001b[43m)\u001b[49m\n",
      "File \u001b[0;32m~/Modelos/Tps/sw-modelos/src/plot_kind/plot_kind_orchestrator.py:21\u001b[0m, in \u001b[0;36mPlotKindOrchestrator.costo_oportunidad\u001b[0;34m(self, product_name, constraint_nameX, x_unit, y_unit)\u001b[0m\n\u001b[1;32m     19\u001b[0m \u001b[38;5;28;01mdef\u001b[39;00m\u001b[38;5;250m \u001b[39m\u001b[38;5;21mcosto_oportunidad\u001b[39m(\u001b[38;5;28mself\u001b[39m, product_name, constraint_nameX, x_unit, y_unit):\n\u001b[1;32m     20\u001b[0m     costo_op \u001b[38;5;241m=\u001b[39m CostoOportunidad(\u001b[38;5;28mself\u001b[39m\u001b[38;5;241m.\u001b[39mmdl, \u001b[38;5;28mself\u001b[39m\u001b[38;5;241m.\u001b[39mproducts, \u001b[38;5;28mself\u001b[39m\u001b[38;5;241m.\u001b[39mproduction_vars)\n\u001b[0;32m---> 21\u001b[0m     current_rhs_value, rhs_values, dual_values \u001b[38;5;241m=\u001b[39m \u001b[43mcosto_op\u001b[49m\u001b[38;5;241;43m.\u001b[39;49m\u001b[43miterate\u001b[49m\u001b[43m(\u001b[49m\u001b[43mconstraint_nameX\u001b[49m\u001b[43m,\u001b[49m\u001b[43m \u001b[49m\u001b[43mproduct_name\u001b[49m\u001b[43m)\u001b[49m\n\u001b[1;32m     22\u001b[0m     costo_op\u001b[38;5;241m.\u001b[39mplot(constraint_nameX, product_name, x_unit, y_unit)\n\u001b[1;32m     23\u001b[0m     \u001b[38;5;28;01mreturn\u001b[39;00m current_rhs_value, rhs_values, dual_values\n",
      "File \u001b[0;32m~/Modelos/Tps/sw-modelos/src/plot_kind/costo_op_vs_disp.py:37\u001b[0m, in \u001b[0;36mCostoOportunidad.iterate\u001b[0;34m(self, constraint_nameX, product_name)\u001b[0m\n\u001b[1;32m     36\u001b[0m \u001b[38;5;28;01mdef\u001b[39;00m\u001b[38;5;250m \u001b[39m\u001b[38;5;21miterate\u001b[39m(\u001b[38;5;28mself\u001b[39m, constraint_nameX, product_name):\n\u001b[0;32m---> 37\u001b[0m     \u001b[38;5;28mself\u001b[39m\u001b[38;5;241m.\u001b[39mcurrent_rhs_value, \u001b[38;5;28mself\u001b[39m\u001b[38;5;241m.\u001b[39mrhs_values, \u001b[38;5;28mself\u001b[39m\u001b[38;5;241m.\u001b[39mdual_values \u001b[38;5;241m=\u001b[39m \u001b[38;5;28;43mself\u001b[39;49m\u001b[38;5;241;43m.\u001b[39;49m\u001b[43miterate_over_rhs_checking_prod_min_dem\u001b[49m\u001b[43m(\u001b[49m\u001b[43mconstraint_nameX\u001b[49m\u001b[43m,\u001b[49m\u001b[43m \u001b[49m\u001b[43mproduct_name\u001b[49m\u001b[43m,\u001b[49m\u001b[43m \u001b[49m\u001b[38;5;28;43mself\u001b[39;49m\u001b[38;5;241;43m.\u001b[39;49m\u001b[43mproducts\u001b[49m\u001b[43m,\u001b[49m\u001b[43m \u001b[49m\u001b[38;5;28;43mself\u001b[39;49m\u001b[38;5;241;43m.\u001b[39;49m\u001b[43mproduction_vars\u001b[49m\u001b[43m,\u001b[49m\u001b[43m \u001b[49m\u001b[38;5;28;43mself\u001b[39;49m\u001b[38;5;241;43m.\u001b[39;49m\u001b[43mmdl\u001b[49m\u001b[43m)\u001b[49m\n\u001b[1;32m     39\u001b[0m     \u001b[38;5;28;01mreturn\u001b[39;00m \u001b[38;5;28mself\u001b[39m\u001b[38;5;241m.\u001b[39mcurrent_rhs_value, \u001b[38;5;28mself\u001b[39m\u001b[38;5;241m.\u001b[39mrhs_values, \u001b[38;5;28mself\u001b[39m\u001b[38;5;241m.\u001b[39mdual_values\n",
      "File \u001b[0;32m~/Modelos/Tps/sw-modelos/src/plot_kind/costo_op_vs_disp.py:77\u001b[0m, in \u001b[0;36mCostoOportunidad.iterate_over_rhs_checking_prod_min_dem\u001b[0;34m(self, constraint_nameX, product_name, products, production_vars, mdl)\u001b[0m\n\u001b[1;32m     74\u001b[0m     \u001b[38;5;28mself\u001b[39m\u001b[38;5;241m.\u001b[39m_prod_var \u001b[38;5;241m=\u001b[39m prod_var_or_min_dem_constraint \u001b[38;5;66;03m# []\u001b[39;00m\n\u001b[1;32m     76\u001b[0m iterator \u001b[38;5;241m=\u001b[39m RhsIterator(products, production_vars, constraint_nameX, prod_var_or_min_dem_constraint)\n\u001b[0;32m---> 77\u001b[0m \u001b[38;5;28;01mreturn\u001b[39;00m \u001b[43miterator\u001b[49m\u001b[38;5;241;43m.\u001b[39;49m\u001b[43miterate_over_rhs\u001b[49m\u001b[43m(\u001b[49m\u001b[43mmdl\u001b[49m\u001b[43m,\u001b[49m\u001b[43m \u001b[49m\u001b[43mget_y_function\u001b[49m\u001b[43m)\u001b[49m\n",
      "File \u001b[0;32m~/Modelos/Tps/sw-modelos/src/iterators/rhs_iterator.py:76\u001b[0m, in \u001b[0;36mRhsIterator.iterate_over_rhs\u001b[0;34m(self, mdl, get_y_function)\u001b[0m\n\u001b[1;32m     72\u001b[0m \u001b[38;5;66;03m#print(\"[debug] (lower, upper):\", (initial_lower, initial_upper)) \u001b[39;00m\n\u001b[1;32m     73\u001b[0m \n\u001b[1;32m     74\u001b[0m \u001b[38;5;66;03m# Obtengo punto actual\u001b[39;00m\n\u001b[1;32m     75\u001b[0m current_rhs_value \u001b[38;5;241m=\u001b[39m c\u001b[38;5;241m.\u001b[39mrhs\u001b[38;5;241m.\u001b[39mconstant\n\u001b[0;32m---> 76\u001b[0m current_dual_value \u001b[38;5;241m=\u001b[39m \u001b[43mget_y_function\u001b[49m\u001b[43m(\u001b[49m\u001b[38;5;28;43mself\u001b[39;49m\u001b[38;5;241;43m.\u001b[39;49m\u001b[43mconstraint_nameY\u001b[49m\u001b[43m)\u001b[49m\n\u001b[1;32m     78\u001b[0m iteration_results \u001b[38;5;241m=\u001b[39m \u001b[38;5;28msuper\u001b[39m()\u001b[38;5;241m.\u001b[39miterate_internal(\u001b[38;5;28mself\u001b[39m\u001b[38;5;241m.\u001b[39mconstraint_nameX, \u001b[38;5;28mself\u001b[39m\u001b[38;5;241m.\u001b[39mconstraint_nameY, current_rhs_value, current_dual_value, mdl, get_y_function)\n\u001b[1;32m     80\u001b[0m \u001b[38;5;66;03m# Restablezco el valor original, que fue modificado por solve durante la iteración\u001b[39;00m\n",
      "File \u001b[0;32m~/Modelos/Tps/sw-modelos/src/plot_kind/costo_op_vs_disp.py:53\u001b[0m, in \u001b[0;36mCostoOportunidad.get_y_without_min_dem\u001b[0;34m(self, prod_var)\u001b[0m\n\u001b[1;32m     52\u001b[0m \u001b[38;5;28;01mdef\u001b[39;00m\u001b[38;5;250m \u001b[39m\u001b[38;5;21mget_y_without_min_dem\u001b[39m(\u001b[38;5;28mself\u001b[39m, prod_var):    \n\u001b[0;32m---> 53\u001b[0m     \u001b[38;5;28;01mreturn\u001b[39;00m \u001b[38;5;241m-\u001b[39m\u001b[38;5;241m1\u001b[39m \u001b[38;5;241m*\u001b[39m \u001b[43mprod_var\u001b[49m\u001b[38;5;241;43m.\u001b[39;49m\u001b[43mreduced_cost\u001b[49m\n",
      "File \u001b[0;32m~/.local/lib/python3.10/site-packages/docplex/mp/dvar.py:568\u001b[0m, in \u001b[0;36mVar.reduced_cost\u001b[0;34m(self)\u001b[0m\n\u001b[1;32m    552\u001b[0m \u001b[38;5;129m@property\u001b[39m\n\u001b[1;32m    553\u001b[0m \u001b[38;5;28;01mdef\u001b[39;00m\u001b[38;5;250m \u001b[39m\u001b[38;5;21mreduced_cost\u001b[39m(\u001b[38;5;28mself\u001b[39m):\n\u001b[1;32m    554\u001b[0m \u001b[38;5;250m    \u001b[39m\u001b[38;5;124;03m\"\"\" Returns the reduced cost of the variable.\u001b[39;00m\n\u001b[1;32m    555\u001b[0m \n\u001b[1;32m    556\u001b[0m \u001b[38;5;124;03m   This method will raise an exception if the model has not been solved as a LP.\u001b[39;00m\n\u001b[0;32m   (...)\u001b[0m\n\u001b[1;32m    566\u001b[0m \u001b[38;5;124;03m        :func:`docplex.mp.model.Model.reduced_costs`\u001b[39;00m\n\u001b[1;32m    567\u001b[0m \u001b[38;5;124;03m    \"\"\"\u001b[39;00m\n\u001b[0;32m--> 568\u001b[0m     \u001b[38;5;28;01mreturn\u001b[39;00m \u001b[38;5;28;43mself\u001b[39;49m\u001b[38;5;241;43m.\u001b[39;49m\u001b[43m_model\u001b[49m\u001b[38;5;241;43m.\u001b[39;49m\u001b[43m_reduced_cost1\u001b[49m\u001b[43m(\u001b[49m\u001b[38;5;28;43mself\u001b[39;49m\u001b[43m)\u001b[49m\n",
      "File \u001b[0;32m~/.local/lib/python3.10/site-packages/docplex/mp/model.py:5908\u001b[0m, in \u001b[0;36mModel._reduced_cost1\u001b[0;34m(self, dvar)\u001b[0m\n\u001b[1;32m   5906\u001b[0m \u001b[38;5;28;01mdef\u001b[39;00m\u001b[38;5;250m \u001b[39m\u001b[38;5;21m_reduced_cost1\u001b[39m(\u001b[38;5;28mself\u001b[39m, dvar):\n\u001b[1;32m   5907\u001b[0m     \u001b[38;5;66;03m# PRIVATE\u001b[39;00m\n\u001b[0;32m-> 5908\u001b[0m     \u001b[38;5;28;43mself\u001b[39;49m\u001b[38;5;241;43m.\u001b[39;49m\u001b[43m_check_problem_type\u001b[49m\u001b[43m(\u001b[49m\u001b[43mfeature\u001b[49m\u001b[38;5;241;43m=\u001b[39;49m\u001b[38;5;124;43m'\u001b[39;49m\u001b[38;5;124;43mreduced costs\u001b[39;49m\u001b[38;5;124;43m'\u001b[39;49m\u001b[43m)\u001b[49m\n\u001b[1;32m   5909\u001b[0m     \u001b[38;5;66;03m#self._checker.typecheck_var(dvar)\u001b[39;00m\n\u001b[1;32m   5910\u001b[0m     rcs \u001b[38;5;241m=\u001b[39m \u001b[38;5;28mself\u001b[39m\u001b[38;5;241m.\u001b[39m_reduced_costs([dvar])\n",
      "File \u001b[0;32m~/.local/lib/python3.10/site-packages/docplex/mp/model.py:5848\u001b[0m, in \u001b[0;36mModel._check_problem_type\u001b[0;34m(self, feature, requires_solution, accept_qxp)\u001b[0m\n\u001b[1;32m   5846\u001b[0m     \u001b[38;5;28mself\u001b[39m\u001b[38;5;241m.\u001b[39mfatal(\u001b[38;5;124m'\u001b[39m\u001b[38;5;132;01m{0}\u001b[39;00m\u001b[38;5;124m are not available for QP/QCP problems\u001b[39m\u001b[38;5;124m'\u001b[39m\u001b[38;5;241m.\u001b[39mformat(feature))\n\u001b[1;32m   5847\u001b[0m \u001b[38;5;28;01melif\u001b[39;00m \u001b[38;5;28mself\u001b[39m\u001b[38;5;241m.\u001b[39m_solved_as_mip():\n\u001b[0;32m-> 5848\u001b[0m     \u001b[38;5;28;43mself\u001b[39;49m\u001b[38;5;241;43m.\u001b[39;49m\u001b[43mfatal\u001b[49m\u001b[43m(\u001b[49m\u001b[38;5;124;43m'\u001b[39;49m\u001b[38;5;132;43;01m{0}\u001b[39;49;00m\u001b[38;5;124;43m are not available for integer problems\u001b[39;49m\u001b[38;5;124;43m'\u001b[39;49m\u001b[38;5;241;43m.\u001b[39;49m\u001b[43mformat\u001b[49m\u001b[43m(\u001b[49m\u001b[43mfeature\u001b[49m\u001b[43m)\u001b[49m\u001b[43m)\u001b[49m\n",
      "File \u001b[0;32m~/.local/lib/python3.10/site-packages/docplex/mp/model.py:1093\u001b[0m, in \u001b[0;36mModel.fatal\u001b[0;34m(self, msg, *args)\u001b[0m\n\u001b[1;32m   1092\u001b[0m \u001b[38;5;28;01mdef\u001b[39;00m\u001b[38;5;250m \u001b[39m\u001b[38;5;21mfatal\u001b[39m(\u001b[38;5;28mself\u001b[39m, msg, \u001b[38;5;241m*\u001b[39margs):\n\u001b[0;32m-> 1093\u001b[0m     \u001b[38;5;28;43mself\u001b[39;49m\u001b[38;5;241;43m.\u001b[39;49m\u001b[43m_error_handler\u001b[49m\u001b[38;5;241;43m.\u001b[39;49m\u001b[43mfatal\u001b[49m\u001b[43m(\u001b[49m\u001b[43mmsg\u001b[49m\u001b[43m,\u001b[49m\u001b[43m \u001b[49m\u001b[43margs\u001b[49m\u001b[43m)\u001b[49m\n",
      "File \u001b[0;32m~/.local/lib/python3.10/site-packages/docplex/mp/error_handler.py:210\u001b[0m, in \u001b[0;36mAbstractErrorHandler.fatal\u001b[0;34m(self, msg, args)\u001b[0m\n\u001b[1;32m    208\u001b[0m resolved_message \u001b[38;5;241m=\u001b[39m resolve_pattern(msg, args)\n\u001b[1;32m    209\u001b[0m docplex_error_stop_here()\n\u001b[0;32m--> 210\u001b[0m \u001b[38;5;28;01mraise\u001b[39;00m DOcplexException(resolved_message)\n",
      "\u001b[0;31mDOcplexException\u001b[0m: reduced costs are not available for integer problems"
     ]
    }
   ],
   "source": [
    "# 3. Costo de oportunidad del producto EL respecto al recurso Maquinaria CEA\n",
    "pko.costo_oportunidad(\"EL\", \"Disp_MAQ_CEA\", \"[hs/mes]\", \"[\\$/un]\")\n"
   ]
  },
  {
   "cell_type": "code",
   "execution_count": null,
   "id": "f9fd93ea",
   "metadata": {},
   "outputs": [
    {
     "ename": "DOcplexException",
     "evalue": "dual values are not available for integer problems",
     "output_type": "error",
     "traceback": [
      "\u001b[0;31m---------------------------------------------------------------------------\u001b[0m",
      "\u001b[0;31mDOcplexException\u001b[0m                          Traceback (most recent call last)",
      "Cell \u001b[0;32mIn[9], line 2\u001b[0m\n\u001b[1;32m      1\u001b[0m \u001b[38;5;66;03m# 4. Valor marginal del recurso Mano de Obra CPM\u001b[39;00m\n\u001b[0;32m----> 2\u001b[0m \u001b[43mpko\u001b[49m\u001b[38;5;241;43m.\u001b[39;49m\u001b[43mvm\u001b[49m\u001b[43m(\u001b[49m\u001b[38;5;124;43m\"\u001b[39;49m\u001b[38;5;124;43mDisp_MAQ_CEA\u001b[39;49m\u001b[38;5;124;43m\"\u001b[39;49m\u001b[43m,\u001b[49m\u001b[43m \u001b[49m\u001b[38;5;124;43m\"\u001b[39;49m\u001b[38;5;124;43m[hs/mes]\u001b[39;49m\u001b[38;5;124;43m\"\u001b[39;49m\u001b[43m,\u001b[49m\u001b[43m \u001b[49m\u001b[38;5;124;43m\"\u001b[39;49m\u001b[38;5;124;43m[\u001b[39;49m\u001b[38;5;124;43m\\\u001b[39;49m\u001b[38;5;124;43m$/un]\u001b[39;49m\u001b[38;5;124;43m\"\u001b[39;49m\u001b[43m)\u001b[49m\n",
      "File \u001b[0;32m~/Modelos/Tps/sw-modelos/src/plot_kind/plot_kind_orchestrator.py:15\u001b[0m, in \u001b[0;36mPlotKindOrchestrator.vm\u001b[0;34m(self, constraint_nameX, x_unit, y_unit)\u001b[0m\n\u001b[1;32m     13\u001b[0m \u001b[38;5;28;01mdef\u001b[39;00m\u001b[38;5;250m \u001b[39m\u001b[38;5;21mvm\u001b[39m(\u001b[38;5;28mself\u001b[39m, constraint_nameX, x_unit, y_unit):\n\u001b[1;32m     14\u001b[0m     vm \u001b[38;5;241m=\u001b[39m VM(\u001b[38;5;28mself\u001b[39m\u001b[38;5;241m.\u001b[39mmdl, \u001b[38;5;28mself\u001b[39m\u001b[38;5;241m.\u001b[39mproducts, \u001b[38;5;28mself\u001b[39m\u001b[38;5;241m.\u001b[39mproduction_vars)\n\u001b[0;32m---> 15\u001b[0m     current_rhs_value, rhs_values, dual_values \u001b[38;5;241m=\u001b[39m \u001b[43mvm\u001b[49m\u001b[38;5;241;43m.\u001b[39;49m\u001b[43miterate\u001b[49m\u001b[43m(\u001b[49m\u001b[43mconstraint_nameX\u001b[49m\u001b[43m)\u001b[49m \u001b[38;5;66;03m# Aux returned for debugging purposes only\u001b[39;00m\n\u001b[1;32m     16\u001b[0m     vm\u001b[38;5;241m.\u001b[39mplot(constraint_nameX, x_unit, y_unit)\n\u001b[1;32m     17\u001b[0m     \u001b[38;5;28;01mreturn\u001b[39;00m current_rhs_value, rhs_values, dual_values\n",
      "File \u001b[0;32m~/Modelos/Tps/sw-modelos/src/plot_kind/vm_vs_disp.py:33\u001b[0m, in \u001b[0;36mVM.iterate\u001b[0;34m(self, constraint_nameX)\u001b[0m\n\u001b[1;32m     30\u001b[0m constraint_nameY \u001b[38;5;241m=\u001b[39m get_constraint_by_name(constraint_nameX, \u001b[38;5;28mself\u001b[39m\u001b[38;5;241m.\u001b[39mmdl)\n\u001b[1;32m     32\u001b[0m iterator \u001b[38;5;241m=\u001b[39m RhsIterator(\u001b[38;5;28mself\u001b[39m\u001b[38;5;241m.\u001b[39mproducts, \u001b[38;5;28mself\u001b[39m\u001b[38;5;241m.\u001b[39mproduction_vars, constraint_nameX, constraint_nameY)\n\u001b[0;32m---> 33\u001b[0m \u001b[38;5;28mself\u001b[39m\u001b[38;5;241m.\u001b[39mcurrent_rhs_value, \u001b[38;5;28mself\u001b[39m\u001b[38;5;241m.\u001b[39mrhs_values, \u001b[38;5;28mself\u001b[39m\u001b[38;5;241m.\u001b[39mdual_values \u001b[38;5;241m=\u001b[39m \u001b[43miterator\u001b[49m\u001b[38;5;241;43m.\u001b[39;49m\u001b[43miterate_over_rhs\u001b[49m\u001b[43m(\u001b[49m\u001b[38;5;28;43mself\u001b[39;49m\u001b[38;5;241;43m.\u001b[39;49m\u001b[43mmdl\u001b[49m\u001b[43m,\u001b[49m\u001b[43m \u001b[49m\u001b[38;5;28;43mself\u001b[39;49m\u001b[38;5;241;43m.\u001b[39;49m\u001b[43mget_y\u001b[49m\u001b[43m)\u001b[49m        \n\u001b[1;32m     35\u001b[0m \u001b[38;5;28;01mreturn\u001b[39;00m \u001b[38;5;28mself\u001b[39m\u001b[38;5;241m.\u001b[39mcurrent_rhs_value, \u001b[38;5;28mself\u001b[39m\u001b[38;5;241m.\u001b[39mrhs_values, \u001b[38;5;28mself\u001b[39m\u001b[38;5;241m.\u001b[39mdual_values\n",
      "File \u001b[0;32m~/Modelos/Tps/sw-modelos/src/iterators/rhs_iterator.py:76\u001b[0m, in \u001b[0;36mRhsIterator.iterate_over_rhs\u001b[0;34m(self, mdl, get_y_function)\u001b[0m\n\u001b[1;32m     72\u001b[0m \u001b[38;5;66;03m#print(\"[debug] (lower, upper):\", (initial_lower, initial_upper)) \u001b[39;00m\n\u001b[1;32m     73\u001b[0m \n\u001b[1;32m     74\u001b[0m \u001b[38;5;66;03m# Obtengo punto actual\u001b[39;00m\n\u001b[1;32m     75\u001b[0m current_rhs_value \u001b[38;5;241m=\u001b[39m c\u001b[38;5;241m.\u001b[39mrhs\u001b[38;5;241m.\u001b[39mconstant\n\u001b[0;32m---> 76\u001b[0m current_dual_value \u001b[38;5;241m=\u001b[39m \u001b[43mget_y_function\u001b[49m\u001b[43m(\u001b[49m\u001b[38;5;28;43mself\u001b[39;49m\u001b[38;5;241;43m.\u001b[39;49m\u001b[43mconstraint_nameY\u001b[49m\u001b[43m)\u001b[49m\n\u001b[1;32m     78\u001b[0m iteration_results \u001b[38;5;241m=\u001b[39m \u001b[38;5;28msuper\u001b[39m()\u001b[38;5;241m.\u001b[39miterate_internal(\u001b[38;5;28mself\u001b[39m\u001b[38;5;241m.\u001b[39mconstraint_nameX, \u001b[38;5;28mself\u001b[39m\u001b[38;5;241m.\u001b[39mconstraint_nameY, current_rhs_value, current_dual_value, mdl, get_y_function)\n\u001b[1;32m     80\u001b[0m \u001b[38;5;66;03m# Restablezco el valor original, que fue modificado por solve durante la iteración\u001b[39;00m\n",
      "File \u001b[0;32m~/Modelos/Tps/sw-modelos/src/plot_kind/vm_vs_disp.py:19\u001b[0m, in \u001b[0;36mVM.get_y\u001b[0;34m(self, constraint_nameY)\u001b[0m\n\u001b[1;32m     18\u001b[0m \u001b[38;5;28;01mdef\u001b[39;00m\u001b[38;5;250m \u001b[39m\u001b[38;5;21mget_y\u001b[39m(\u001b[38;5;28mself\u001b[39m, constraint_nameY):\n\u001b[0;32m---> 19\u001b[0m     \u001b[38;5;28;01mreturn\u001b[39;00m \u001b[43mconstraint_nameY\u001b[49m\u001b[38;5;241;43m.\u001b[39;49m\u001b[43mdual_value\u001b[49m\n",
      "File \u001b[0;32m~/.local/lib/python3.10/site-packages/docplex/mp/constr.py:732\u001b[0m, in \u001b[0;36mLinearConstraint.dual_value\u001b[0;34m(self)\u001b[0m\n\u001b[1;32m    720\u001b[0m \u001b[38;5;129m@property\u001b[39m\n\u001b[1;32m    721\u001b[0m \u001b[38;5;28;01mdef\u001b[39;00m\u001b[38;5;250m \u001b[39m\u001b[38;5;21mdual_value\u001b[39m(\u001b[38;5;28mself\u001b[39m):\n\u001b[1;32m    722\u001b[0m \u001b[38;5;250m    \u001b[39m\u001b[38;5;124;03m\"\"\" This property returns the dual value of the constraint.\u001b[39;00m\n\u001b[1;32m    723\u001b[0m \n\u001b[1;32m    724\u001b[0m \u001b[38;5;124;03m    Note:\u001b[39;00m\n\u001b[0;32m   (...)\u001b[0m\n\u001b[1;32m    730\u001b[0m \u001b[38;5;124;03m        `func:docplex.mp.model.Model.dual_values()`\u001b[39;00m\n\u001b[1;32m    731\u001b[0m \u001b[38;5;124;03m    \"\"\"\u001b[39;00m\n\u001b[0;32m--> 732\u001b[0m     \u001b[38;5;28;01mreturn\u001b[39;00m \u001b[38;5;28;43mself\u001b[39;49m\u001b[38;5;241;43m.\u001b[39;49m\u001b[43m_get_dual_value\u001b[49m\u001b[43m(\u001b[49m\u001b[43m)\u001b[49m\n",
      "File \u001b[0;32m~/.local/lib/python3.10/site-packages/docplex/mp/constr.py:186\u001b[0m, in \u001b[0;36mAbstractConstraint._get_dual_value\u001b[0;34m(self)\u001b[0m\n\u001b[1;32m    182\u001b[0m \u001b[38;5;28;01mdef\u001b[39;00m\u001b[38;5;250m \u001b[39m\u001b[38;5;21m_get_dual_value\u001b[39m(\u001b[38;5;28mself\u001b[39m):\n\u001b[1;32m    183\u001b[0m     \u001b[38;5;66;03m# INTERNAL\u001b[39;00m\n\u001b[1;32m    184\u001b[0m     \u001b[38;5;66;03m# Note that dual values are only available for LP problems,\u001b[39;00m\n\u001b[1;32m    185\u001b[0m     \u001b[38;5;66;03m# so can be calle donly on linear or range constraints.\u001b[39;00m\n\u001b[0;32m--> 186\u001b[0m     \u001b[38;5;28;01mreturn\u001b[39;00m \u001b[38;5;28;43mself\u001b[39;49m\u001b[38;5;241;43m.\u001b[39;49m\u001b[43m_model\u001b[49m\u001b[38;5;241;43m.\u001b[39;49m\u001b[43m_dual_value1\u001b[49m\u001b[43m(\u001b[49m\u001b[38;5;28;43mself\u001b[39;49m\u001b[43m)\u001b[49m\n",
      "File \u001b[0;32m~/.local/lib/python3.10/site-packages/docplex/mp/model.py:5852\u001b[0m, in \u001b[0;36mModel._dual_value1\u001b[0;34m(self, linear_ct)\u001b[0m\n\u001b[1;32m   5850\u001b[0m \u001b[38;5;28;01mdef\u001b[39;00m\u001b[38;5;250m \u001b[39m\u001b[38;5;21m_dual_value1\u001b[39m(\u001b[38;5;28mself\u001b[39m, linear_ct):\n\u001b[1;32m   5851\u001b[0m     \u001b[38;5;66;03m# PRIVATE\u001b[39;00m\n\u001b[0;32m-> 5852\u001b[0m     \u001b[38;5;28;43mself\u001b[39;49m\u001b[38;5;241;43m.\u001b[39;49m\u001b[43m_check_problem_type\u001b[49m\u001b[43m(\u001b[49m\u001b[43mfeature\u001b[49m\u001b[38;5;241;43m=\u001b[39;49m\u001b[38;5;124;43m'\u001b[39;49m\u001b[38;5;124;43mdual values\u001b[39;49m\u001b[38;5;124;43m'\u001b[39;49m\u001b[43m)\u001b[49m\n\u001b[1;32m   5853\u001b[0m     \u001b[38;5;28mself\u001b[39m\u001b[38;5;241m.\u001b[39m_checker\u001b[38;5;241m.\u001b[39mtypecheck_ct_added_to_model(\u001b[38;5;28mself\u001b[39m, linear_ct)\n\u001b[1;32m   5854\u001b[0m     dvs \u001b[38;5;241m=\u001b[39m \u001b[38;5;28mself\u001b[39m\u001b[38;5;241m.\u001b[39m_dual_values([linear_ct])\n",
      "File \u001b[0;32m~/.local/lib/python3.10/site-packages/docplex/mp/model.py:5848\u001b[0m, in \u001b[0;36mModel._check_problem_type\u001b[0;34m(self, feature, requires_solution, accept_qxp)\u001b[0m\n\u001b[1;32m   5846\u001b[0m     \u001b[38;5;28mself\u001b[39m\u001b[38;5;241m.\u001b[39mfatal(\u001b[38;5;124m'\u001b[39m\u001b[38;5;132;01m{0}\u001b[39;00m\u001b[38;5;124m are not available for QP/QCP problems\u001b[39m\u001b[38;5;124m'\u001b[39m\u001b[38;5;241m.\u001b[39mformat(feature))\n\u001b[1;32m   5847\u001b[0m \u001b[38;5;28;01melif\u001b[39;00m \u001b[38;5;28mself\u001b[39m\u001b[38;5;241m.\u001b[39m_solved_as_mip():\n\u001b[0;32m-> 5848\u001b[0m     \u001b[38;5;28;43mself\u001b[39;49m\u001b[38;5;241;43m.\u001b[39;49m\u001b[43mfatal\u001b[49m\u001b[43m(\u001b[49m\u001b[38;5;124;43m'\u001b[39;49m\u001b[38;5;132;43;01m{0}\u001b[39;49;00m\u001b[38;5;124;43m are not available for integer problems\u001b[39;49m\u001b[38;5;124;43m'\u001b[39;49m\u001b[38;5;241;43m.\u001b[39;49m\u001b[43mformat\u001b[49m\u001b[43m(\u001b[49m\u001b[43mfeature\u001b[49m\u001b[43m)\u001b[49m\u001b[43m)\u001b[49m\n",
      "File \u001b[0;32m~/.local/lib/python3.10/site-packages/docplex/mp/model.py:1093\u001b[0m, in \u001b[0;36mModel.fatal\u001b[0;34m(self, msg, *args)\u001b[0m\n\u001b[1;32m   1092\u001b[0m \u001b[38;5;28;01mdef\u001b[39;00m\u001b[38;5;250m \u001b[39m\u001b[38;5;21mfatal\u001b[39m(\u001b[38;5;28mself\u001b[39m, msg, \u001b[38;5;241m*\u001b[39margs):\n\u001b[0;32m-> 1093\u001b[0m     \u001b[38;5;28;43mself\u001b[39;49m\u001b[38;5;241;43m.\u001b[39;49m\u001b[43m_error_handler\u001b[49m\u001b[38;5;241;43m.\u001b[39;49m\u001b[43mfatal\u001b[49m\u001b[43m(\u001b[49m\u001b[43mmsg\u001b[49m\u001b[43m,\u001b[49m\u001b[43m \u001b[49m\u001b[43margs\u001b[49m\u001b[43m)\u001b[49m\n",
      "File \u001b[0;32m~/.local/lib/python3.10/site-packages/docplex/mp/error_handler.py:210\u001b[0m, in \u001b[0;36mAbstractErrorHandler.fatal\u001b[0;34m(self, msg, args)\u001b[0m\n\u001b[1;32m    208\u001b[0m resolved_message \u001b[38;5;241m=\u001b[39m resolve_pattern(msg, args)\n\u001b[1;32m    209\u001b[0m docplex_error_stop_here()\n\u001b[0;32m--> 210\u001b[0m \u001b[38;5;28;01mraise\u001b[39;00m DOcplexException(resolved_message)\n",
      "\u001b[0;31mDOcplexException\u001b[0m: dual values are not available for integer problems"
     ]
    }
   ],
   "source": [
    "# 4. Valor marginal del recurso Mano de Obra CPM\n",
    "pko.vm(\"Disp_MAQ_CEA\", \"[hs/mes]\", \"[\\$/un]\")"
   ]
  }
 ],
 "metadata": {
  "language_info": {
   "name": "python",
   "pygments_lexer": "ipython3"
  }
 },
 "nbformat": 4,
 "nbformat_minor": 5
}
