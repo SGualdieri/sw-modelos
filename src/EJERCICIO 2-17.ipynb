{
 "cells": [
  {
   "cell_type": "code",
   "execution_count": null,
   "id": "5f64678b",
   "metadata": {},
   "outputs": [
    {
     "name": "stdout",
     "output_type": "stream",
     "text": [
      "* Modelo resuelto con objetivo mínimo = 216.00\n",
      "  - Reponer_viernes: 4.00 trabajadores asignados\n",
      "  - Ordenar_viernes: 2.00 trabajadores asignados\n",
      "  - Marcar_viernes: 1.00 trabajadores asignados\n",
      "  - Reponer_sabado: 4.00 trabajadores asignados\n",
      "  - Marcar_sabado: 1.00 trabajadores asignados\n",
      "  - Reponer_domingo: 3.00 trabajadores asignados\n",
      "  - Ordenar_domingo: 2.00 trabajadores asignados\n",
      "  - Marcar_domingo: 1.00 trabajadores asignados\n",
      "--------------------\n",
      "Model: supermercado_3dias\n",
      "Constraints:\n",
      "   DemMin_Ordenar_viernes: 240trab_Ordenar_viernes >= 300\n",
      "   DemMin_Marcar_viernes: 280trab_Marcar_viernes >= 150\n",
      "   DemMin_Reponer_viernes: 120trab_Reponer_viernes >= 400\n",
      "   DemMin_Marcar_sabado: 308x_Marcar_sabado_de_Ordenar+280x_Marcar_sabado_de_Marcar+308x_Marcar_sabado_de_Reponer >= 139\n",
      "   DemMin_Reponer_sabado: 132x_Reponer_sabado_de_Ordenar+132x_Reponer_sabado_de_Marcar+120x_Reponer_sabado_de_Reponer >= 500\n",
      "   DemMin_Ordenar_domingo: 240x_Ordenar_domingo_de_Ordenar+264x_Ordenar_domingo_de_Marcar+264x_Ordenar_domingo_de_Reponer >= 300\n",
      "   DemMin_Marcar_domingo: 308x_Marcar_domingo_de_Ordenar+280x_Marcar_domingo_de_Marcar+308x_Marcar_domingo_de_Reponer >= 143\n",
      "   DemMin_Reponer_domingo: 132x_Reponer_domingo_de_Ordenar+132x_Reponer_domingo_de_Marcar+120x_Reponer_domingo_de_Reponer >= 350\n",
      "   Limite_viernes: trab_Ordenar_viernes+trab_Marcar_viernes+trab_Reponer_viernes <= 18\n",
      "   Limite_sabado: x_Marcar_sabado_de_Ordenar+x_Marcar_sabado_de_Marcar+x_Marcar_sabado_de_Reponer+x_Reponer_sabado_de_Ordenar+x_Reponer_sabado_de_Marcar+x_Reponer_sabado_de_Reponer <= 18\n",
      "   Limite_domingo: x_Ordenar_domingo_de_Ordenar+x_Ordenar_domingo_de_Marcar+x_Ordenar_domingo_de_Reponer+x_Marcar_domingo_de_Ordenar+x_Marcar_domingo_de_Marcar+x_Marcar_domingo_de_Reponer+x_Reponer_domingo_de_Ordenar+x_Reponer_domingo_de_Marcar+x_Reponer_domingo_de_Reponer <= 18\n",
      "Objective: 12trab_Ordenar_viernes+12trab_Marcar_viernes+12trab_Reponer_viernes+12x_Marcar_sabado_de_Ordenar+12x_Marcar_sabado_de_Marcar+12x_Marcar_sabado_de_Reponer+12x_Reponer_sabado_de_Ordenar+12x_Reponer_sabado_de_Marcar+12x_Reponer_sabado_de_Reponer+12x_Ordenar_domingo_de_Ordenar+12x_Ordenar_domingo_de_Marcar+12x_Ordenar_domingo_de_Reponer+12x_Marcar_domingo_de_Ordenar+12x_Marcar_domingo_de_Marcar+12x_Marcar_domingo_de_Reponer+12x_Reponer_domingo_de_Ordenar+12x_Reponer_domingo_de_Marcar+12x_Reponer_domingo_de_Reponer\n",
      " Minimize\n",
      "--------------------\n"
     ]
    }
   ],
   "source": [
    "# Cargar los datos y obtener el modelo\n",
    "from data_and_model_construction.data_2_17 import create_data_dict\n",
    "from data_and_model_construction.common_model_2_17 import create_model, solve_model, print_model\n",
    "\n",
    "data = create_data_dict()\n",
    "mdl, production_vars, products = create_model(data)\n",
    "print_model(mdl)\n",
    "solve_model(mdl, production_vars, products)\n",
    "\n"
   ]
  }
 ],
 "metadata": {
  "language_info": {
   "name": "python",
   "pygments_lexer": "ipython3"
  }
 },
 "nbformat": 4,
 "nbformat_minor": 5
}
