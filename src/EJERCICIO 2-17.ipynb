{
 "cells": [
  {
   "cell_type": "code",
   "execution_count": null,
   "id": "5f64678b",
   "metadata": {},
   "outputs": [
    {
     "name": "stdout",
     "output_type": "stream",
     "text": [
      "Model: asignacion_empleados_supermercado\n",
      " - number of variables: 360\n",
      "   - binary=360, integer=0, continuous=0\n",
      " - number of constraints: 656\n",
      "   - linear=656\n",
      " - parameters: defaults\n",
      " - objective: minimize\n",
      " - problem type is: MILP\n",
      "\n",
      "✅ Costo total mínimo: $228.0\n",
      "\n",
      "🧑 Empleado 0 hace tarea 'Reponer' el Sabado\n",
      "🧑 Empleado 0 hace tarea 'Marcar' el Viernes\n",
      "🧑 Empleado 2 hace tarea 'Reponer' el Sabado\n",
      "🧑 Empleado 3 hace tarea 'Reponer' el Viernes\n",
      "🧑 Empleado 5 hace tarea 'Ordenar' el Viernes\n",
      "🧑 Empleado 5 hace tarea 'Marcar' el Domingo\n",
      "🧑 Empleado 6 hace tarea 'Reponer' el Viernes\n",
      "🧑 Empleado 6 hace tarea 'Ordenar' el Domingo\n",
      "🧑 Empleado 7 hace tarea 'Reponer' el Sabado\n",
      "🧑 Empleado 8 hace tarea 'Reponer' el Viernes\n",
      "🧑 Empleado 11 hace tarea 'Ordenar' el Domingo\n",
      "🧑 Empleado 11 hace tarea 'Marcar' el Sabado\n",
      "🧑 Empleado 12 hace tarea 'Reponer' el Domingo\n",
      "🧑 Empleado 13 hace tarea 'Reponer' el Viernes\n",
      "🧑 Empleado 13 hace tarea 'Reponer' el Domingo\n",
      "🧑 Empleado 15 hace tarea 'Reponer' el Sabado\n",
      "🧑 Empleado 15 hace tarea 'Reponer' el Domingo\n",
      "🧑 Empleado 16 hace tarea 'Reponer' el Viernes\n",
      "🧑 Empleado 17 hace tarea 'Ordenar' el Viernes\n"
     ]
    }
   ],
   "source": [
    "# Cargar los datos y obtener el modelo\n",
    "from data_and_model_construction.data_2_17 import create_data_dict\n",
    "from data_and_model_construction.common_model_2_17 import create_model, print_model, solve_model\n",
    "\n",
    "data = create_data_dict()\n",
    "mdl, x, trabaja, cambia = create_model(data)\n",
    "# print_model(mdl)\n",
    "solve_model(mdl, x, trabaja, cambia)\n"
   ]
  }
 ],
 "metadata": {
  "language_info": {
   "name": "python",
   "pygments_lexer": "ipython3"
  }
 },
 "nbformat": 4,
 "nbformat_minor": 5
}
