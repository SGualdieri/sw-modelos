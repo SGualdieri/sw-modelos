{
 "cells": [
  {
   "cell_type": "code",
   "execution_count": null,
   "id": "5f64678b",
   "metadata": {},
   "outputs": [
    {
     "ename": "ValueError",
     "evalue": "ERROR: faltan datos de entrada: 'products'",
     "output_type": "error",
     "traceback": [
      "\u001b[0;31m---------------------------------------------------------------------------\u001b[0m",
      "\u001b[0;31mKeyError\u001b[0m                                  Traceback (most recent call last)",
      "File \u001b[0;32m~/Modelos/Tps/sw-modelos/src/data_and_model_construction/data.py:37\u001b[0m, in \u001b[0;36munpack_data\u001b[0;34m(data_dict)\u001b[0m\n\u001b[1;32m     36\u001b[0m name \u001b[38;5;241m=\u001b[39m data_dict[\u001b[38;5;124m\"\u001b[39m\u001b[38;5;124mname\u001b[39m\u001b[38;5;124m\"\u001b[39m]\n\u001b[0;32m---> 37\u001b[0m products \u001b[38;5;241m=\u001b[39m \u001b[43mdata_dict\u001b[49m\u001b[43m[\u001b[49m\u001b[38;5;124;43m\"\u001b[39;49m\u001b[38;5;124;43mproducts\u001b[39;49m\u001b[38;5;124;43m\"\u001b[39;49m\u001b[43m]\u001b[49m\n\u001b[1;32m     38\u001b[0m resources \u001b[38;5;241m=\u001b[39m data_dict[\u001b[38;5;124m\"\u001b[39m\u001b[38;5;124mresources\u001b[39m\u001b[38;5;124m\"\u001b[39m]\n",
      "\u001b[0;31mKeyError\u001b[0m: 'products'",
      "\nDuring handling of the above exception, another exception occurred:\n",
      "\u001b[0;31mValueError\u001b[0m                                Traceback (most recent call last)",
      "Cell \u001b[0;32mIn[1], line 6\u001b[0m\n\u001b[1;32m      3\u001b[0m \u001b[38;5;28;01mfrom\u001b[39;00m\u001b[38;5;250m \u001b[39m\u001b[38;5;21;01mdata_and_model_construction\u001b[39;00m\u001b[38;5;21;01m.\u001b[39;00m\u001b[38;5;21;01mcommon_model_2_17\u001b[39;00m\u001b[38;5;250m \u001b[39m\u001b[38;5;28;01mimport\u001b[39;00m create_model, print_model, solve_model\n\u001b[1;32m      5\u001b[0m data \u001b[38;5;241m=\u001b[39m create_data_dict()\n\u001b[0;32m----> 6\u001b[0m mdl, x, trabaja, cambia \u001b[38;5;241m=\u001b[39m \u001b[43mcreate_model\u001b[49m\u001b[43m(\u001b[49m\u001b[43mdata\u001b[49m\u001b[43m)\u001b[49m\n\u001b[1;32m      7\u001b[0m \u001b[38;5;66;03m# print_model(mdl)\u001b[39;00m\n\u001b[1;32m      8\u001b[0m solve_model(mdl, x, trabaja, cambia)\n",
      "File \u001b[0;32m~/Modelos/Tps/sw-modelos/src/data_and_model_construction/common_model_2_17.py:12\u001b[0m, in \u001b[0;36mcreate_model\u001b[0;34m(data_dict)\u001b[0m\n\u001b[1;32m      7\u001b[0m \u001b[38;5;28;01mdef\u001b[39;00m\u001b[38;5;250m \u001b[39m\u001b[38;5;21mcreate_model\u001b[39m(data_dict):\n\u001b[1;32m      8\u001b[0m     (\n\u001b[1;32m      9\u001b[0m         name, empleados, tareas, dias,\n\u001b[1;32m     10\u001b[0m         eficiencia, demanda, jornada_horas,\n\u001b[1;32m     11\u001b[0m         costo_diario, bonificacion\n\u001b[0;32m---> 12\u001b[0m     ) \u001b[38;5;241m=\u001b[39m \u001b[43munpack_data\u001b[49m\u001b[43m(\u001b[49m\u001b[43mdata_dict\u001b[49m\u001b[43m)\u001b[49m\n\u001b[1;32m     14\u001b[0m     mdl \u001b[38;5;241m=\u001b[39m Model(name)\n\u001b[1;32m     16\u001b[0m     \u001b[38;5;66;03m# --- VARIABLES ---\u001b[39;00m\n",
      "File \u001b[0;32m~/Modelos/Tps/sw-modelos/src/data_and_model_construction/data.py:41\u001b[0m, in \u001b[0;36munpack_data\u001b[0;34m(data_dict)\u001b[0m\n\u001b[1;32m     39\u001b[0m     consumptions \u001b[38;5;241m=\u001b[39m data_dict[\u001b[38;5;124m\"\u001b[39m\u001b[38;5;124mconsumptions\u001b[39m\u001b[38;5;124m\"\u001b[39m]\n\u001b[1;32m     40\u001b[0m \u001b[38;5;28;01mexcept\u001b[39;00m \u001b[38;5;167;01mException\u001b[39;00m \u001b[38;5;28;01mas\u001b[39;00m e:\n\u001b[0;32m---> 41\u001b[0m     \u001b[38;5;28;01mraise\u001b[39;00m \u001b[38;5;167;01mValueError\u001b[39;00m(\u001b[38;5;124mf\u001b[39m\u001b[38;5;124m\"\u001b[39m\u001b[38;5;124mERROR: faltan datos de entrada: \u001b[39m\u001b[38;5;132;01m{\u001b[39;00me\u001b[38;5;132;01m}\u001b[39;00m\u001b[38;5;124m\"\u001b[39m)\n\u001b[1;32m     43\u001b[0m \u001b[38;5;28;01mreturn\u001b[39;00m name, products, resources, consumptions\n",
      "\u001b[0;31mValueError\u001b[0m: ERROR: faltan datos de entrada: 'products'"
     ]
    }
   ],
   "source": [
    "# Cargar los datos y obtener el modelo\n",
    "from data_and_model_construction.data_2_17 import create_data_dict\n",
    "from data_and_model_construction.common_model_2_17 import create_model, print_model, solve_model\n",
    "\n",
    "data = create_data_dict()\n",
    "mdl, x, trabaja, cambia = create_model(data)\n",
    "# print_model(mdl)\n",
    "solve_model(mdl, x, trabaja, cambia)\n"
   ]
  }
 ],
 "metadata": {
  "language_info": {
   "name": "python",
   "pygments_lexer": "ipython3"
  }
 },
 "nbformat": 4,
 "nbformat_minor": 5
}
