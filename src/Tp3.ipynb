{
 "cells": [
  {
   "cell_type": "code",
   "execution_count": null,
   "id": "5f64678b",
   "metadata": {},
   "outputs": [
    {
     "name": "stdout",
     "output_type": "stream",
     "text": [
      "Model: produccion_muebles_hogar\n",
      " - number of variables: 17\n",
      "   - binary=0, integer=0, continuous=17\n",
      " - number of constraints: 22\n",
      "   - linear=22\n",
      " - parameters: defaults\n",
      " - objective: maximize\n",
      " - problem type is: LP\n",
      "--------------------\n",
      "Model: produccion_muebles_hogar\n",
      "Constraints:\n",
      "   CANT_MAD == 7CANT_TAB+10CANT_ESTRU\n",
      "   CANT_MET == 2CANT_PATA+3CANT_SOP\n",
      "   CANT_PINT == 0.500EB+0.800EL\n",
      "   CANT_TAB == EB+2EL\n",
      "   CANT_ESTRU == EB+2EL\n",
      "   CANT_PATA == 4EB+6EL\n",
      "   CANT_SOP == 2EL\n",
      "   CANT_MDO_CPM == CANT_TAB+1.500CANT_ESTRU\n",
      "   CANT_MAQ_CFCM == 0.500CANT_PATA+0.300CANT_SOP\n",
      "   CANT_MDO_CEA == 1.500EB+2.500EL\n",
      "   CANT_MAQ_CEA == EB+1.800EL\n",
      "   Disp_Madera: CANT_MAD <= 15000\n",
      "   Disp_Metal: CANT_MET <= 9000\n",
      "   Disp_MDO_CEA: CANT_MDO_CEA <= 640\n",
      "   Disp_MAQ_CEA: CANT_MAQ_CEA <= 640\n",
      "   -5CANT_MAD-8CANT_MET-10CANT_PINT-20CANT_MDO_CPM-25CANT_MDO_CEA-7CANT_MAQ_CEA-8CANT_MAQ_CFCM+42000 == EXCESO-DEFECTO\n",
      "   INT_GANADO == 0.080EXCESO\n",
      "   INT_PAGADO == 0.100DEFECTO\n",
      "   DemandaMin_EB: EB >= 30\n",
      "   DemandaMax_EL: EL <= 30\n",
      "Objective: 700EB+1200EL-5CANT_MAD-8CANT_MET-10CANT_PINT-20CANT_MDO_CPM-25CANT_MDO_CEA-7CANT_MAQ_CEA-8CANT_MAQ_CFCM+INT_GANADO-INT_PAGADO\n",
      " Maximize\n",
      "--------------------\n",
      "* Production model solved with objective: 115548\n",
      "Production of EB: 272.2117202268431\n",
      "Production of EL: 0\n"
     ]
    }
   ],
   "source": [
    "# Cargar los datos y obtener el modelo\n",
    "from data_and_model_construction.data_tp3 import create_data_dict\n",
    "from data_and_model_construction.common_model_tp3 import create_model, print_model, solve_model\n",
    "\n",
    "data = create_data_dict()\n",
    "mdl, x,trabaja = create_model(data)\n",
    "print_model(mdl)\n",
    "\n",
    "solve_model(mdl, x, trabaja)\n"
   ]
  }
 ],
 "metadata": {
  "language_info": {
   "name": "python",
   "pygments_lexer": "ipython3"
  }
 },
 "nbformat": 4,
 "nbformat_minor": 5
}
