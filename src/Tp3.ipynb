{
 "cells": [
  {
   "cell_type": "code",
   "execution_count": null,
   "id": "5f64678b",
   "metadata": {},
   "outputs": [
    {
     "name": "stdout",
     "output_type": "stream",
     "text": [
      "--------------------\n",
      "Model: asignacion_empleados_supermercado\n",
      "Constraints:\n",
      "   trabajadores_dia_Viernes: trabaja_Viernes == x_Reponer_Viernes+x_Ordenar_Viernes+x_Marcar_Viernes\n",
      "   limite_empleados_Viernes: trabaja_Viernes <= 18\n",
      "   trabajadores_dia_Sabado: trabaja_Sabado == x_Reponer_Sabado+x_Ordenar_Sabado+x_Marcar_Sabado\n",
      "   limite_empleados_Sabado: trabaja_Sabado <= 18\n",
      "   trabajadores_dia_Domingo: trabaja_Domingo == x_Reponer_Domingo+x_Ordenar_Domingo+x_Marcar_Domingo\n",
      "   limite_empleados_Domingo: trabaja_Domingo <= 18\n",
      "   demanda_Reponer_Viernes: 120x_Reponer_Viernes >= 500\n",
      "   demanda_Ordenar_Viernes: 240x_Ordenar_Viernes >= 300\n",
      "   demanda_Marcar_Viernes: 280x_Marcar_Viernes >= 150\n",
      "   demanda_Reponer_Sabado: 132x_Reponer_Sabado >= 500\n",
      "   demanda_Marcar_Sabado: 308x_Marcar_Sabado >= 139\n",
      "   demanda_Reponer_Domingo: 132x_Reponer_Domingo >= 350\n",
      "   demanda_Ordenar_Domingo: 264x_Ordenar_Domingo >= 300\n",
      "   demanda_Marcar_Domingo: 308x_Marcar_Domingo >= 143\n",
      "Objective: 12trabaja_Viernes+12trabaja_Sabado+12trabaja_Domingo\n",
      " Minimize\n",
      "--------------------\n",
      "\n",
      " Costo total mínimo: $228.0\n",
      "\n",
      "Asignación de empleados por tarea y día:\n",
      "5 empleados hacen 'Reponer' el Viernes\n",
      "4 empleados hacen 'Reponer' el Sabado\n",
      "3 empleados hacen 'Reponer' el Domingo\n",
      "2 empleados hacen 'Ordenar' el Viernes\n",
      "2 empleados hacen 'Ordenar' el Domingo\n",
      "1 empleados hacen 'Marcar' el Viernes\n",
      "1 empleados hacen 'Marcar' el Sabado\n",
      "1 empleados hacen 'Marcar' el Domingo\n",
      "\n",
      " Empleados trabajando por día:\n",
      " Viernes: 8 empleados\n",
      " Sabado: 5 empleados\n",
      " Domingo: 6 empleados\n"
     ]
    }
   ],
   "source": [
    "# Cargar los datos y obtener el modelo\n",
    "from data_and_model_construction.data_2_17 import create_data_dict\n",
    "from data_and_model_construction.common_model_2_17 import create_model, print_model, solve_model\n",
    "\n",
    "data = create_data_dict()\n",
    "mdl, x,trabaja = create_model(data)\n",
    "print_model(mdl)\n",
    "\n",
    "solve_model(mdl, x, trabaja)\n"
   ]
  }
 ],
 "metadata": {
  "language_info": {
   "name": "python",
   "pygments_lexer": "ipython3"
  }
 },
 "nbformat": 4,
 "nbformat_minor": 5
}
