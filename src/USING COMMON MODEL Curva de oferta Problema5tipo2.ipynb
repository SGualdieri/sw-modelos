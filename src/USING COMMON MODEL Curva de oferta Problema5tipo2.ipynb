{
 "cells": [
  {
   "cell_type": "code",
   "execution_count": null,
   "id": "878cbede",
   "metadata": {},
   "outputs": [
    {
     "name": "stdout",
     "output_type": "stream",
     "text": [
      "Model: produccion_pullover\n",
      " - number of variables: 5\n",
      "   - binary=0, integer=0, continuous=5\n",
      " - number of constraints: 15\n",
      "   - linear=15\n",
      " - parameters: defaults\n",
      " - objective: maximize\n",
      " - problem type is: LP\n",
      "* Production model solved with objective: 550\n",
      "* Total benefit=550\n",
      "Production of A: 0\n",
      "Production of B: 16.666666666666664\n",
      "Production of B1: 13.333333333333332\n",
      "Production of B2: 3.333333333333332\n",
      "Production of C: 16.666666666666668\n"
     ]
    }
   ],
   "source": [
    "# Cargar los datos y obtener el modelo\n",
    "from data_and_model_construction.data import create_data_dict\n",
    "from data_and_model_construction.common_model import create_model, solve_model\n",
    "from plot_kind.curva_of_cant_vs_precio import CurvaDeOferta\n",
    "\n",
    "data = create_data_dict()\n",
    "mdl, production_vars, products = create_model(data)\n",
    "solve_model(mdl, production_vars, products)"
   ]
  },
  {
   "cell_type": "code",
   "execution_count": null,
   "id": "f7138417",
   "metadata": {},
   "outputs": [
    {
     "name": "stdout",
     "output_type": "stream",
     "text": [
      "[debug] (lower, upper): (-1e+20, 16.5)\n",
      "* Production model solved with objective: 550.067\n",
      "* Total benefit=550.067\n",
      "Production of A: 6.6666666666666625\n",
      "Production of B: 20.0\n",
      "Production of B1: 7.7777777777777795\n",
      "Production of B2: 12.222222222222221\n",
      "Production of C: 7.777777777777779\n",
      "* Production model solved with objective: 600\n",
      "* Total benefit=600\n",
      "Production of A: 6.6666666666666625\n",
      "Production of B: 20.0\n",
      "Production of B1: 7.7777777777777795\n",
      "Production of B2: 12.222222222222221\n",
      "Production of C: 7.777777777777779\n",
      "* Production model solved with objective: 600.125\n",
      "* Total benefit=600.125\n",
      "Production of A: 12.5\n",
      "Production of B: 20.0\n",
      "Production of B1: 2.9166666666666665\n",
      "Production of B2: 17.083333333333332\n",
      "Production of C: 0\n",
      "* Production model solved with objective: 550\n",
      "* Total benefit=550\n",
      "Production of A: 0\n",
      "Production of B: 16.666666666666664\n",
      "Production of B1: 13.333333333333332\n",
      "Production of B2: 3.333333333333332\n",
      "Production of C: 16.666666666666668\n"
     ]
    }
   ],
   "source": [
    "product_name = \"A\"\n",
    "curva_of = CurvaDeOferta(mdl, products, production_vars)\n",
    "current_price_value, prices, quantities = curva_of.iterate(product_name)"
   ]
  },
  {
   "cell_type": "code",
   "execution_count": null,
   "id": "21644b11",
   "metadata": {},
   "outputs": [
    {
     "name": "stdout",
     "output_type": "stream",
     "text": [
      "[debug] current_x_value: 10\n"
     ]
    },
    {
     "data": {
      "text/plain": [
       "<Figure size 640x480 with 1 Axes>"
      ]
     },
     "metadata": {},
     "output_type": "display_data"
    },
    {
     "data": {
      "text/plain": [
       "<Figure size 2000x1000 with 0 Axes>"
      ]
     },
     "metadata": {},
     "output_type": "display_data"
    }
   ],
   "source": [
    "curva_of.plot(product_name, \"[$/un]\", \"[un/semana]\")"
   ]
  },
  {
   "cell_type": "code",
   "execution_count": null,
   "id": "47cc1a64",
   "metadata": {},
   "outputs": [
    {
     "name": "stdout",
     "output_type": "stream",
     "text": [
      "[debug] (lower, upper): (0.0, 18.0)\n",
      "* Production model solved with objective: 600.2\n",
      "* Total benefit=600.2\n",
      "Production of A: 0\n",
      "Production of B: 20.0\n",
      "Production of B1: 13.333333333333332\n",
      "Production of B2: 6.666666666666668\n",
      "Production of C: 13.333333333333332\n",
      "* Production model solved with objective: 300\n",
      "* Total benefit=300\n",
      "Production of A: 0\n",
      "Production of B: 16.666666666666664\n",
      "Production of B1: 13.333333333333332\n",
      "Production of B2: 3.333333333333332\n",
      "Production of C: 16.666666666666668\n",
      "[debug] current_x_value: 15\n"
     ]
    },
    {
     "data": {
      "text/plain": [
       "<Figure size 640x480 with 1 Axes>"
      ]
     },
     "metadata": {},
     "output_type": "display_data"
    },
    {
     "data": {
      "text/plain": [
       "<Figure size 2000x1000 with 0 Axes>"
      ]
     },
     "metadata": {},
     "output_type": "display_data"
    }
   ],
   "source": [
    "product_name = \"B\"\n",
    "curva_of = CurvaDeOferta(mdl, products, production_vars)\n",
    "current_price_value, prices, quantities = curva_of.iterate(product_name)\n",
    "curva_of.plot(product_name, \"[$/un]\", \"[un/semana]\")"
   ]
  },
  {
   "cell_type": "code",
   "execution_count": null,
   "id": "8a149a02",
   "metadata": {},
   "outputs": [
    {
     "name": "stdout",
     "output_type": "stream",
     "text": [
      "[debug] (lower, upper): (7.500000000000002, 1e+20)\n",
      "* Production model solved with objective: 425\n",
      "* Total benefit=425\n",
      "Production of A: 12.5\n",
      "Production of B: 20.0\n",
      "Production of B1: 0\n",
      "Production of B2: 20.0\n",
      "Production of C: 0\n",
      "* Production model solved with objective: 425\n",
      "* Total benefit=425\n",
      "Production of A: 12.5\n",
      "Production of B: 20.0\n",
      "Production of B1: 0\n",
      "Production of B2: 20.0\n",
      "Production of C: 0\n",
      "[debug] current_x_value: 18\n"
     ]
    },
    {
     "data": {
      "text/plain": [
       "<Figure size 640x480 with 1 Axes>"
      ]
     },
     "metadata": {},
     "output_type": "display_data"
    },
    {
     "data": {
      "text/plain": [
       "<Figure size 2000x1000 with 0 Axes>"
      ]
     },
     "metadata": {},
     "output_type": "display_data"
    }
   ],
   "source": [
    "product_name = \"C\"\n",
    "curva_of = CurvaDeOferta(mdl, products, production_vars)\n",
    "current_price_value, prices, quantities = curva_of.iterate(product_name)\n",
    "curva_of.plot(product_name, \"[$/un]\", \"[un/semana]\")"
   ]
  }
 ],
 "metadata": {
  "language_info": {
   "name": "python",
   "pygments_lexer": "ipython3"
  }
 },
 "nbformat": 4,
 "nbformat_minor": 5
}
